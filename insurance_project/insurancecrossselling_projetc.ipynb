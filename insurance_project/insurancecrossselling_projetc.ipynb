{
 "cells": [
  {
   "cell_type": "markdown",
   "id": "05e23e39",
   "metadata": {},
   "source": [
    "# Предсказание перекрестных продаж страхования"
   ]
  },
  {
   "cell_type": "markdown",
   "id": "1bdbd2a4",
   "metadata": {},
   "source": [
    "**Цель:** - предсказать, какие клиенты положительно отреагируют на предложение по авто страхованию.\n",
    "\n",
    "Данные взяты из kaggle-соревнования [Binary Classification of Insurance Cross Selling](https://www.kaggle.com/competitions/playground-series-s4e7/overview). \n",
    "\n",
    "Набор данных для этого соревнования (как обучающий, так и тестовый) был создан на основе набора данных продаж медицинского страхования [Health Insurance Cross Sell Prediction Data](https://www.kaggle.com/datasets/annantkumarsingh/health-insurance-cross-sell-prediction-data)\n",
    "\n",
    "**Файлы**\n",
    "- `train.csv` - обучающий набор данных\n",
    "- `test.csv` - тестовый набор данных\n",
    "- `sample_submission.csv` - образец файла для отправки в правильном формате\n",
    "\n",
    "**Метрика:** ROC-AUC.\n",
    "\n",
    "**Описание переменных**\n",
    "\n",
    "- `id` -> Уникальный идентификатор клиента\n",
    "- `Gender` -> Пол клиента\n",
    "- `Age` -> Возраст клиента\n",
    "- `Driving_License` ->0 : у клиента нет водительского удостоверение, 1 : у клиента есть\n",
    "- `Region_Code` -> Уникальный код региона клиента\n",
    "- `Previously_Insured` ->1 : У клиента уже есть страховка транспортного средства, 0: у клиента нет страховки транспортного средства\n",
    "- `Vehicle_Age` -> Возраст автомобиля\n",
    "- `Vehicle_Damage` -> 1 : У клиента в прошлом были повреждения транспортного средства. 0: У клиента в прошлом не было повреждений транспортного средства.\n",
    "- `Annual_Premium` -> Сумма, которую клиент должен заплатить в качестве страховой премии в течение года\n",
    "- `Policy_Sales_Channel` -> Анонимный код для канала связи с клиентом, т. е. разные агенты, по почте, по телефону, лично и т. д.\n",
    "- `Vintage` -> Количество дней, в течение которых клиент был связан с компанией\n",
    "- `Response` ->1 : Клиент заинтересован, 0: Клиент не заинтересован\n",
    "\n",
    "**Цель** - Response\n",
    "\n",
    "**План исследования**\n",
    "\n",
    "1. Изучить данные\n",
    "2. Предобработка данных\n",
    "3. Исследовательский анализ данных\n",
    "4. Корреляционные анализ\n",
    "5. Feature Engineering\n",
    "5. Обучение моделей\n",
    "6. Описание проделанных попыток\n",
    "7. Общий вывод"
   ]
  },
  {
   "cell_type": "markdown",
   "id": "9c75de34",
   "metadata": {},
   "source": [
    "# Изучение данных\n",
    "## Импорт библиотек"
   ]
  },
  {
   "cell_type": "code",
   "execution_count": 2,
   "id": "e6701db8",
   "metadata": {
    "ExecuteTime": {
     "end_time": "2024-08-05T18:43:04.426927Z",
     "start_time": "2024-08-05T18:42:59.820673Z"
    }
   },
   "outputs": [],
   "source": [
    "import os\n",
    "import warnings\n",
    "import gc\n",
    "\n",
    "import pandas as pd\n",
    "import numpy as np\n",
    "import seaborn as sns\n",
    "import matplotlib.pyplot as plt\n",
    "from scipy import stats as st\n",
    "\n",
    "#from sklearn.pipeline import Pipeline\n",
    "#from sklearn.compose import ColumnTransformer\n",
    "#from sklearn.linear_model import LogisticRegression\n",
    "from sklearn.neighbors import KNeighborsClassifier\n",
    "from sklearn.dummy import DummyClassifier\n",
    "from sklearn.model_selection import (\n",
    "    train_test_split, RandomizedSearchCV, StratifiedKFold)\n",
    "from sklearn.preprocessing import StandardScaler\n",
    "# from sklearn.preprocessing import (\n",
    "# OneHotEncoder OrdinalEncoder, LabelEncoder)\n",
    "#from sklearn.impute import SimpleImputer\n",
    "from sklearn.metrics import roc_auc_score\n",
    "\n",
    "# Импортируем сторонние библиотеки\n",
    "import phik\n",
    "from phik.report import plot_correlation_matrix\n",
    "\n",
    "#from optuna.integration import OptunaSearchCV\n",
    "#from optuna import distributions\n",
    "#from optuna.exceptions import ExperimentalWarning\n",
    "\n",
    "from lightgbm import LGBMClassifier\n",
    "\n",
    "import catboost as cb\n",
    "from catboost import Pool"
   ]
  },
  {
   "cell_type": "code",
   "execution_count": 3,
   "id": "7e956cf0",
   "metadata": {
    "ExecuteTime": {
     "end_time": "2024-08-05T18:43:06.050461Z",
     "start_time": "2024-08-05T18:43:06.048101Z"
    }
   },
   "outputs": [],
   "source": [
    "warnings.simplefilter('ignore', UserWarning)"
   ]
  },
  {
   "cell_type": "markdown",
   "id": "d41e883d",
   "metadata": {},
   "source": [
    "## Функции"
   ]
  },
  {
   "cell_type": "code",
   "execution_count": 4,
   "id": "d79b5d7f",
   "metadata": {
    "ExecuteTime": {
     "end_time": "2024-08-05T18:43:07.587094Z",
     "start_time": "2024-08-05T18:43:07.583086Z"
    }
   },
   "outputs": [],
   "source": [
    "def test_shapiro(data, alpha):\n",
    "    '''\n",
    "    Функция проверяет данные на нормальное\n",
    "    распределения, исполльзуя тест Шапиро-Уилка\n",
    "    Принимает столбец и сверяет его p-value с уровнем\n",
    "    статистической значимости и выводит ответ о нормальности\n",
    "\n",
    "    '''\n",
    "\n",
    "    statistic, p = st.shapiro(data)\n",
    "\n",
    "    if p > alpha:\n",
    "        print('Не отвергаем HO. \\\n",
    "Данные получены из нормального распределения')\n",
    "    else:\n",
    "        print('Отвергаем HO и принимаем H1. \\\n",
    "Данные не получены из нормального распределения')"
   ]
  },
  {
   "cell_type": "markdown",
   "id": "69ffdf92",
   "metadata": {},
   "source": [
    "## Константы"
   ]
  },
  {
   "cell_type": "code",
   "execution_count": 5,
   "id": "33a813c2",
   "metadata": {
    "ExecuteTime": {
     "end_time": "2024-08-05T18:43:08.257244Z",
     "start_time": "2024-08-05T18:43:08.254286Z"
    }
   },
   "outputs": [],
   "source": [
    "ALPHA = 0.05  # Задаем уровень значимости\n",
    "\n",
    "TEST_SIZE = 0.25  # Задаем константу разделения датасета\n",
    "\n",
    "RANDOM_STATE = 42  # Задаем константу для деления датасета на одинаковые выборки"
   ]
  },
  {
   "cell_type": "markdown",
   "id": "000fee8c",
   "metadata": {},
   "source": [
    "## Загрузка данных"
   ]
  },
  {
   "cell_type": "markdown",
   "id": "b89ceb49",
   "metadata": {},
   "source": [
    "Прочитаем файлы `train.csv` и `test.csv` и сохраним их в соотвествующие переменные `train_df` и `test_df`"
   ]
  },
  {
   "cell_type": "code",
   "execution_count": 6,
   "id": "abf5224a",
   "metadata": {
    "ExecuteTime": {
     "end_time": "2024-08-05T18:43:10.024430Z",
     "start_time": "2024-08-05T18:43:10.020926Z"
    }
   },
   "outputs": [],
   "source": [
    "pth1 = r\"C:\\Users\\stepa\\Downloads\\train.csv\"\n",
    "pth2 = r\"C:\\Users\\stepa\\Downloads\\test.csv\""
   ]
  },
  {
   "cell_type": "code",
   "execution_count": 7,
   "id": "7a37436b",
   "metadata": {
    "ExecuteTime": {
     "end_time": "2024-08-05T18:43:22.542302Z",
     "start_time": "2024-08-05T18:43:13.569482Z"
    }
   },
   "outputs": [],
   "source": [
    "if os.path.exists(pth1):\n",
    "    train_df = pd.read_csv(pth1)\n",
    "else:\n",
    "    print('Ошибка')"
   ]
  },
  {
   "cell_type": "code",
   "execution_count": 8,
   "id": "763396fc",
   "metadata": {
    "ExecuteTime": {
     "end_time": "2024-08-05T18:43:28.659500Z",
     "start_time": "2024-08-05T18:43:23.364500Z"
    }
   },
   "outputs": [],
   "source": [
    "if os.path.exists(pth2):\n",
    "    test_df = pd.read_csv(pth2)\n",
    "else:\n",
    "    print('Ошибка')"
   ]
  },
  {
   "cell_type": "markdown",
   "id": "e2e1d7b0",
   "metadata": {},
   "source": [
    "Выведем первые 5 строк всех таблиц"
   ]
  },
  {
   "cell_type": "code",
   "execution_count": 9,
   "id": "369d3ff8",
   "metadata": {
    "ExecuteTime": {
     "end_time": "2024-08-05T18:43:29.937951Z",
     "start_time": "2024-08-05T18:43:29.909350Z"
    }
   },
   "outputs": [
    {
     "data": {
      "text/html": [
       "<div>\n",
       "<style scoped>\n",
       "    .dataframe tbody tr th:only-of-type {\n",
       "        vertical-align: middle;\n",
       "    }\n",
       "\n",
       "    .dataframe tbody tr th {\n",
       "        vertical-align: top;\n",
       "    }\n",
       "\n",
       "    .dataframe thead th {\n",
       "        text-align: right;\n",
       "    }\n",
       "</style>\n",
       "<table border=\"1\" class=\"dataframe\">\n",
       "  <thead>\n",
       "    <tr style=\"text-align: right;\">\n",
       "      <th></th>\n",
       "      <th>id</th>\n",
       "      <th>Gender</th>\n",
       "      <th>Age</th>\n",
       "      <th>Driving_License</th>\n",
       "      <th>Region_Code</th>\n",
       "      <th>Previously_Insured</th>\n",
       "      <th>Vehicle_Age</th>\n",
       "      <th>Vehicle_Damage</th>\n",
       "      <th>Annual_Premium</th>\n",
       "      <th>Policy_Sales_Channel</th>\n",
       "      <th>Vintage</th>\n",
       "      <th>Response</th>\n",
       "    </tr>\n",
       "  </thead>\n",
       "  <tbody>\n",
       "    <tr>\n",
       "      <th>0</th>\n",
       "      <td>0</td>\n",
       "      <td>Male</td>\n",
       "      <td>21</td>\n",
       "      <td>1</td>\n",
       "      <td>35.0</td>\n",
       "      <td>0</td>\n",
       "      <td>1-2 Year</td>\n",
       "      <td>Yes</td>\n",
       "      <td>65101.0</td>\n",
       "      <td>124.0</td>\n",
       "      <td>187</td>\n",
       "      <td>0</td>\n",
       "    </tr>\n",
       "    <tr>\n",
       "      <th>1</th>\n",
       "      <td>1</td>\n",
       "      <td>Male</td>\n",
       "      <td>43</td>\n",
       "      <td>1</td>\n",
       "      <td>28.0</td>\n",
       "      <td>0</td>\n",
       "      <td>&gt; 2 Years</td>\n",
       "      <td>Yes</td>\n",
       "      <td>58911.0</td>\n",
       "      <td>26.0</td>\n",
       "      <td>288</td>\n",
       "      <td>1</td>\n",
       "    </tr>\n",
       "    <tr>\n",
       "      <th>2</th>\n",
       "      <td>2</td>\n",
       "      <td>Female</td>\n",
       "      <td>25</td>\n",
       "      <td>1</td>\n",
       "      <td>14.0</td>\n",
       "      <td>1</td>\n",
       "      <td>&lt; 1 Year</td>\n",
       "      <td>No</td>\n",
       "      <td>38043.0</td>\n",
       "      <td>152.0</td>\n",
       "      <td>254</td>\n",
       "      <td>0</td>\n",
       "    </tr>\n",
       "    <tr>\n",
       "      <th>3</th>\n",
       "      <td>3</td>\n",
       "      <td>Female</td>\n",
       "      <td>35</td>\n",
       "      <td>1</td>\n",
       "      <td>1.0</td>\n",
       "      <td>0</td>\n",
       "      <td>1-2 Year</td>\n",
       "      <td>Yes</td>\n",
       "      <td>2630.0</td>\n",
       "      <td>156.0</td>\n",
       "      <td>76</td>\n",
       "      <td>0</td>\n",
       "    </tr>\n",
       "    <tr>\n",
       "      <th>4</th>\n",
       "      <td>4</td>\n",
       "      <td>Female</td>\n",
       "      <td>36</td>\n",
       "      <td>1</td>\n",
       "      <td>15.0</td>\n",
       "      <td>1</td>\n",
       "      <td>1-2 Year</td>\n",
       "      <td>No</td>\n",
       "      <td>31951.0</td>\n",
       "      <td>152.0</td>\n",
       "      <td>294</td>\n",
       "      <td>0</td>\n",
       "    </tr>\n",
       "  </tbody>\n",
       "</table>\n",
       "</div>"
      ],
      "text/plain": [
       "   id  Gender  Age  Driving_License  Region_Code  Previously_Insured  \\\n",
       "0   0    Male   21                1         35.0                   0   \n",
       "1   1    Male   43                1         28.0                   0   \n",
       "2   2  Female   25                1         14.0                   1   \n",
       "3   3  Female   35                1          1.0                   0   \n",
       "4   4  Female   36                1         15.0                   1   \n",
       "\n",
       "  Vehicle_Age Vehicle_Damage  Annual_Premium  Policy_Sales_Channel  Vintage  \\\n",
       "0    1-2 Year            Yes         65101.0                 124.0      187   \n",
       "1   > 2 Years            Yes         58911.0                  26.0      288   \n",
       "2    < 1 Year             No         38043.0                 152.0      254   \n",
       "3    1-2 Year            Yes          2630.0                 156.0       76   \n",
       "4    1-2 Year             No         31951.0                 152.0      294   \n",
       "\n",
       "   Response  \n",
       "0         0  \n",
       "1         1  \n",
       "2         0  \n",
       "3         0  \n",
       "4         0  "
      ]
     },
     "execution_count": 9,
     "metadata": {},
     "output_type": "execute_result"
    }
   ],
   "source": [
    "train_df.head()"
   ]
  },
  {
   "cell_type": "code",
   "execution_count": 10,
   "id": "e17562bb",
   "metadata": {
    "ExecuteTime": {
     "end_time": "2024-08-05T18:43:30.424940Z",
     "start_time": "2024-08-05T18:43:30.413585Z"
    }
   },
   "outputs": [
    {
     "data": {
      "text/html": [
       "<div>\n",
       "<style scoped>\n",
       "    .dataframe tbody tr th:only-of-type {\n",
       "        vertical-align: middle;\n",
       "    }\n",
       "\n",
       "    .dataframe tbody tr th {\n",
       "        vertical-align: top;\n",
       "    }\n",
       "\n",
       "    .dataframe thead th {\n",
       "        text-align: right;\n",
       "    }\n",
       "</style>\n",
       "<table border=\"1\" class=\"dataframe\">\n",
       "  <thead>\n",
       "    <tr style=\"text-align: right;\">\n",
       "      <th></th>\n",
       "      <th>id</th>\n",
       "      <th>Gender</th>\n",
       "      <th>Age</th>\n",
       "      <th>Driving_License</th>\n",
       "      <th>Region_Code</th>\n",
       "      <th>Previously_Insured</th>\n",
       "      <th>Vehicle_Age</th>\n",
       "      <th>Vehicle_Damage</th>\n",
       "      <th>Annual_Premium</th>\n",
       "      <th>Policy_Sales_Channel</th>\n",
       "      <th>Vintage</th>\n",
       "    </tr>\n",
       "  </thead>\n",
       "  <tbody>\n",
       "    <tr>\n",
       "      <th>0</th>\n",
       "      <td>11504798</td>\n",
       "      <td>Female</td>\n",
       "      <td>20</td>\n",
       "      <td>1</td>\n",
       "      <td>47.0</td>\n",
       "      <td>0</td>\n",
       "      <td>&lt; 1 Year</td>\n",
       "      <td>No</td>\n",
       "      <td>2630.0</td>\n",
       "      <td>160.0</td>\n",
       "      <td>228</td>\n",
       "    </tr>\n",
       "    <tr>\n",
       "      <th>1</th>\n",
       "      <td>11504799</td>\n",
       "      <td>Male</td>\n",
       "      <td>47</td>\n",
       "      <td>1</td>\n",
       "      <td>28.0</td>\n",
       "      <td>0</td>\n",
       "      <td>1-2 Year</td>\n",
       "      <td>Yes</td>\n",
       "      <td>37483.0</td>\n",
       "      <td>124.0</td>\n",
       "      <td>123</td>\n",
       "    </tr>\n",
       "    <tr>\n",
       "      <th>2</th>\n",
       "      <td>11504800</td>\n",
       "      <td>Male</td>\n",
       "      <td>47</td>\n",
       "      <td>1</td>\n",
       "      <td>43.0</td>\n",
       "      <td>0</td>\n",
       "      <td>1-2 Year</td>\n",
       "      <td>Yes</td>\n",
       "      <td>2630.0</td>\n",
       "      <td>26.0</td>\n",
       "      <td>271</td>\n",
       "    </tr>\n",
       "    <tr>\n",
       "      <th>3</th>\n",
       "      <td>11504801</td>\n",
       "      <td>Female</td>\n",
       "      <td>22</td>\n",
       "      <td>1</td>\n",
       "      <td>47.0</td>\n",
       "      <td>1</td>\n",
       "      <td>&lt; 1 Year</td>\n",
       "      <td>No</td>\n",
       "      <td>24502.0</td>\n",
       "      <td>152.0</td>\n",
       "      <td>115</td>\n",
       "    </tr>\n",
       "    <tr>\n",
       "      <th>4</th>\n",
       "      <td>11504802</td>\n",
       "      <td>Male</td>\n",
       "      <td>51</td>\n",
       "      <td>1</td>\n",
       "      <td>19.0</td>\n",
       "      <td>0</td>\n",
       "      <td>1-2 Year</td>\n",
       "      <td>No</td>\n",
       "      <td>34115.0</td>\n",
       "      <td>124.0</td>\n",
       "      <td>148</td>\n",
       "    </tr>\n",
       "  </tbody>\n",
       "</table>\n",
       "</div>"
      ],
      "text/plain": [
       "         id  Gender  Age  Driving_License  Region_Code  Previously_Insured  \\\n",
       "0  11504798  Female   20                1         47.0                   0   \n",
       "1  11504799    Male   47                1         28.0                   0   \n",
       "2  11504800    Male   47                1         43.0                   0   \n",
       "3  11504801  Female   22                1         47.0                   1   \n",
       "4  11504802    Male   51                1         19.0                   0   \n",
       "\n",
       "  Vehicle_Age Vehicle_Damage  Annual_Premium  Policy_Sales_Channel  Vintage  \n",
       "0    < 1 Year             No          2630.0                 160.0      228  \n",
       "1    1-2 Year            Yes         37483.0                 124.0      123  \n",
       "2    1-2 Year            Yes          2630.0                  26.0      271  \n",
       "3    < 1 Year             No         24502.0                 152.0      115  \n",
       "4    1-2 Year             No         34115.0                 124.0      148  "
      ]
     },
     "execution_count": 10,
     "metadata": {},
     "output_type": "execute_result"
    }
   ],
   "source": [
    "test_df.head()"
   ]
  },
  {
   "cell_type": "markdown",
   "id": "4a775d13",
   "metadata": {},
   "source": [
    "Посмотрим на общую информацию о данных в таблицах."
   ]
  },
  {
   "cell_type": "code",
   "execution_count": 11,
   "id": "0ea002f6",
   "metadata": {
    "ExecuteTime": {
     "end_time": "2024-08-05T18:43:32.792973Z",
     "start_time": "2024-08-05T18:43:32.770953Z"
    }
   },
   "outputs": [
    {
     "name": "stdout",
     "output_type": "stream",
     "text": [
      "<class 'pandas.core.frame.DataFrame'>\n",
      "RangeIndex: 11504798 entries, 0 to 11504797\n",
      "Data columns (total 12 columns):\n",
      " #   Column                Dtype  \n",
      "---  ------                -----  \n",
      " 0   id                    int64  \n",
      " 1   Gender                object \n",
      " 2   Age                   int64  \n",
      " 3   Driving_License       int64  \n",
      " 4   Region_Code           float64\n",
      " 5   Previously_Insured    int64  \n",
      " 6   Vehicle_Age           object \n",
      " 7   Vehicle_Damage        object \n",
      " 8   Annual_Premium        float64\n",
      " 9   Policy_Sales_Channel  float64\n",
      " 10  Vintage               int64  \n",
      " 11  Response              int64  \n",
      "dtypes: float64(3), int64(6), object(3)\n",
      "memory usage: 1.0+ GB\n"
     ]
    }
   ],
   "source": [
    "train_df.info()"
   ]
  },
  {
   "cell_type": "code",
   "execution_count": 12,
   "id": "5914559e",
   "metadata": {
    "ExecuteTime": {
     "end_time": "2024-08-05T18:43:36.307428Z",
     "start_time": "2024-08-05T18:43:34.259656Z"
    }
   },
   "outputs": [
    {
     "data": {
      "text/html": [
       "<div>\n",
       "<style scoped>\n",
       "    .dataframe tbody tr th:only-of-type {\n",
       "        vertical-align: middle;\n",
       "    }\n",
       "\n",
       "    .dataframe tbody tr th {\n",
       "        vertical-align: top;\n",
       "    }\n",
       "\n",
       "    .dataframe thead th {\n",
       "        text-align: right;\n",
       "    }\n",
       "</style>\n",
       "<table border=\"1\" class=\"dataframe\">\n",
       "  <thead>\n",
       "    <tr style=\"text-align: right;\">\n",
       "      <th></th>\n",
       "      <th>id</th>\n",
       "      <th>Age</th>\n",
       "      <th>Driving_License</th>\n",
       "      <th>Region_Code</th>\n",
       "      <th>Previously_Insured</th>\n",
       "      <th>Annual_Premium</th>\n",
       "      <th>Policy_Sales_Channel</th>\n",
       "      <th>Vintage</th>\n",
       "      <th>Response</th>\n",
       "    </tr>\n",
       "  </thead>\n",
       "  <tbody>\n",
       "    <tr>\n",
       "      <th>count</th>\n",
       "      <td>1.150480e+07</td>\n",
       "      <td>1.150480e+07</td>\n",
       "      <td>1.150480e+07</td>\n",
       "      <td>1.150480e+07</td>\n",
       "      <td>1.150480e+07</td>\n",
       "      <td>1.150480e+07</td>\n",
       "      <td>1.150480e+07</td>\n",
       "      <td>1.150480e+07</td>\n",
       "      <td>1.150480e+07</td>\n",
       "    </tr>\n",
       "    <tr>\n",
       "      <th>mean</th>\n",
       "      <td>5.752398e+06</td>\n",
       "      <td>3.838356e+01</td>\n",
       "      <td>9.980220e-01</td>\n",
       "      <td>2.641869e+01</td>\n",
       "      <td>4.629966e-01</td>\n",
       "      <td>3.046137e+04</td>\n",
       "      <td>1.124254e+02</td>\n",
       "      <td>1.638977e+02</td>\n",
       "      <td>1.229973e-01</td>\n",
       "    </tr>\n",
       "    <tr>\n",
       "      <th>std</th>\n",
       "      <td>3.321149e+06</td>\n",
       "      <td>1.499346e+01</td>\n",
       "      <td>4.443120e-02</td>\n",
       "      <td>1.299159e+01</td>\n",
       "      <td>4.986289e-01</td>\n",
       "      <td>1.645475e+04</td>\n",
       "      <td>5.403571e+01</td>\n",
       "      <td>7.997953e+01</td>\n",
       "      <td>3.284341e-01</td>\n",
       "    </tr>\n",
       "    <tr>\n",
       "      <th>min</th>\n",
       "      <td>0.000000e+00</td>\n",
       "      <td>2.000000e+01</td>\n",
       "      <td>0.000000e+00</td>\n",
       "      <td>0.000000e+00</td>\n",
       "      <td>0.000000e+00</td>\n",
       "      <td>2.630000e+03</td>\n",
       "      <td>1.000000e+00</td>\n",
       "      <td>1.000000e+01</td>\n",
       "      <td>0.000000e+00</td>\n",
       "    </tr>\n",
       "    <tr>\n",
       "      <th>25%</th>\n",
       "      <td>2.876199e+06</td>\n",
       "      <td>2.400000e+01</td>\n",
       "      <td>1.000000e+00</td>\n",
       "      <td>1.500000e+01</td>\n",
       "      <td>0.000000e+00</td>\n",
       "      <td>2.527700e+04</td>\n",
       "      <td>2.900000e+01</td>\n",
       "      <td>9.900000e+01</td>\n",
       "      <td>0.000000e+00</td>\n",
       "    </tr>\n",
       "    <tr>\n",
       "      <th>50%</th>\n",
       "      <td>5.752398e+06</td>\n",
       "      <td>3.600000e+01</td>\n",
       "      <td>1.000000e+00</td>\n",
       "      <td>2.800000e+01</td>\n",
       "      <td>0.000000e+00</td>\n",
       "      <td>3.182400e+04</td>\n",
       "      <td>1.510000e+02</td>\n",
       "      <td>1.660000e+02</td>\n",
       "      <td>0.000000e+00</td>\n",
       "    </tr>\n",
       "    <tr>\n",
       "      <th>75%</th>\n",
       "      <td>8.628598e+06</td>\n",
       "      <td>4.900000e+01</td>\n",
       "      <td>1.000000e+00</td>\n",
       "      <td>3.500000e+01</td>\n",
       "      <td>1.000000e+00</td>\n",
       "      <td>3.945100e+04</td>\n",
       "      <td>1.520000e+02</td>\n",
       "      <td>2.320000e+02</td>\n",
       "      <td>0.000000e+00</td>\n",
       "    </tr>\n",
       "    <tr>\n",
       "      <th>max</th>\n",
       "      <td>1.150480e+07</td>\n",
       "      <td>8.500000e+01</td>\n",
       "      <td>1.000000e+00</td>\n",
       "      <td>5.200000e+01</td>\n",
       "      <td>1.000000e+00</td>\n",
       "      <td>5.401650e+05</td>\n",
       "      <td>1.630000e+02</td>\n",
       "      <td>2.990000e+02</td>\n",
       "      <td>1.000000e+00</td>\n",
       "    </tr>\n",
       "  </tbody>\n",
       "</table>\n",
       "</div>"
      ],
      "text/plain": [
       "                 id           Age  Driving_License   Region_Code  \\\n",
       "count  1.150480e+07  1.150480e+07     1.150480e+07  1.150480e+07   \n",
       "mean   5.752398e+06  3.838356e+01     9.980220e-01  2.641869e+01   \n",
       "std    3.321149e+06  1.499346e+01     4.443120e-02  1.299159e+01   \n",
       "min    0.000000e+00  2.000000e+01     0.000000e+00  0.000000e+00   \n",
       "25%    2.876199e+06  2.400000e+01     1.000000e+00  1.500000e+01   \n",
       "50%    5.752398e+06  3.600000e+01     1.000000e+00  2.800000e+01   \n",
       "75%    8.628598e+06  4.900000e+01     1.000000e+00  3.500000e+01   \n",
       "max    1.150480e+07  8.500000e+01     1.000000e+00  5.200000e+01   \n",
       "\n",
       "       Previously_Insured  Annual_Premium  Policy_Sales_Channel       Vintage  \\\n",
       "count        1.150480e+07    1.150480e+07          1.150480e+07  1.150480e+07   \n",
       "mean         4.629966e-01    3.046137e+04          1.124254e+02  1.638977e+02   \n",
       "std          4.986289e-01    1.645475e+04          5.403571e+01  7.997953e+01   \n",
       "min          0.000000e+00    2.630000e+03          1.000000e+00  1.000000e+01   \n",
       "25%          0.000000e+00    2.527700e+04          2.900000e+01  9.900000e+01   \n",
       "50%          0.000000e+00    3.182400e+04          1.510000e+02  1.660000e+02   \n",
       "75%          1.000000e+00    3.945100e+04          1.520000e+02  2.320000e+02   \n",
       "max          1.000000e+00    5.401650e+05          1.630000e+02  2.990000e+02   \n",
       "\n",
       "           Response  \n",
       "count  1.150480e+07  \n",
       "mean   1.229973e-01  \n",
       "std    3.284341e-01  \n",
       "min    0.000000e+00  \n",
       "25%    0.000000e+00  \n",
       "50%    0.000000e+00  \n",
       "75%    0.000000e+00  \n",
       "max    1.000000e+00  "
      ]
     },
     "execution_count": 12,
     "metadata": {},
     "output_type": "execute_result"
    }
   ],
   "source": [
    "train_df.describe()"
   ]
  },
  {
   "cell_type": "markdown",
   "id": "183cd807",
   "metadata": {},
   "source": [
    "Рассмотрим полученную информацию подробнее.\n",
    "\n",
    "Всего в таблице 12 столбцов, тип данных - `int`(6), `object`(3), `float`(3). Исходя из описательной статистики видно, что значения медианы и среднего в некоторых столбцах отличается, что, возможно, говорит о выбросах в данных."
   ]
  },
  {
   "cell_type": "code",
   "execution_count": 13,
   "id": "495bd2bf",
   "metadata": {
    "ExecuteTime": {
     "end_time": "2024-08-05T18:43:38.779094Z",
     "start_time": "2024-08-05T18:43:38.771412Z"
    }
   },
   "outputs": [
    {
     "name": "stdout",
     "output_type": "stream",
     "text": [
      "<class 'pandas.core.frame.DataFrame'>\n",
      "RangeIndex: 7669866 entries, 0 to 7669865\n",
      "Data columns (total 11 columns):\n",
      " #   Column                Dtype  \n",
      "---  ------                -----  \n",
      " 0   id                    int64  \n",
      " 1   Gender                object \n",
      " 2   Age                   int64  \n",
      " 3   Driving_License       int64  \n",
      " 4   Region_Code           float64\n",
      " 5   Previously_Insured    int64  \n",
      " 6   Vehicle_Age           object \n",
      " 7   Vehicle_Damage        object \n",
      " 8   Annual_Premium        float64\n",
      " 9   Policy_Sales_Channel  float64\n",
      " 10  Vintage               int64  \n",
      "dtypes: float64(3), int64(5), object(3)\n",
      "memory usage: 643.7+ MB\n"
     ]
    }
   ],
   "source": [
    "test_df.info()"
   ]
  },
  {
   "cell_type": "code",
   "execution_count": 14,
   "id": "0132ac84",
   "metadata": {
    "ExecuteTime": {
     "end_time": "2024-08-05T18:43:43.640362Z",
     "start_time": "2024-08-05T18:43:42.408201Z"
    }
   },
   "outputs": [
    {
     "data": {
      "text/html": [
       "<div>\n",
       "<style scoped>\n",
       "    .dataframe tbody tr th:only-of-type {\n",
       "        vertical-align: middle;\n",
       "    }\n",
       "\n",
       "    .dataframe tbody tr th {\n",
       "        vertical-align: top;\n",
       "    }\n",
       "\n",
       "    .dataframe thead th {\n",
       "        text-align: right;\n",
       "    }\n",
       "</style>\n",
       "<table border=\"1\" class=\"dataframe\">\n",
       "  <thead>\n",
       "    <tr style=\"text-align: right;\">\n",
       "      <th></th>\n",
       "      <th>id</th>\n",
       "      <th>Age</th>\n",
       "      <th>Driving_License</th>\n",
       "      <th>Region_Code</th>\n",
       "      <th>Previously_Insured</th>\n",
       "      <th>Annual_Premium</th>\n",
       "      <th>Policy_Sales_Channel</th>\n",
       "      <th>Vintage</th>\n",
       "    </tr>\n",
       "  </thead>\n",
       "  <tbody>\n",
       "    <tr>\n",
       "      <th>count</th>\n",
       "      <td>7.669866e+06</td>\n",
       "      <td>7.669866e+06</td>\n",
       "      <td>7.669866e+06</td>\n",
       "      <td>7.669866e+06</td>\n",
       "      <td>7.669866e+06</td>\n",
       "      <td>7.669866e+06</td>\n",
       "      <td>7.669866e+06</td>\n",
       "      <td>7.669866e+06</td>\n",
       "    </tr>\n",
       "    <tr>\n",
       "      <th>mean</th>\n",
       "      <td>1.533973e+07</td>\n",
       "      <td>3.839137e+01</td>\n",
       "      <td>9.980208e-01</td>\n",
       "      <td>2.642661e+01</td>\n",
       "      <td>4.630772e-01</td>\n",
       "      <td>3.046553e+04</td>\n",
       "      <td>1.123650e+02</td>\n",
       "      <td>1.638996e+02</td>\n",
       "    </tr>\n",
       "    <tr>\n",
       "      <th>std</th>\n",
       "      <td>2.214100e+06</td>\n",
       "      <td>1.499951e+01</td>\n",
       "      <td>4.444387e-02</td>\n",
       "      <td>1.299433e+01</td>\n",
       "      <td>4.986349e-01</td>\n",
       "      <td>1.644586e+04</td>\n",
       "      <td>5.407358e+01</td>\n",
       "      <td>7.998445e+01</td>\n",
       "    </tr>\n",
       "    <tr>\n",
       "      <th>min</th>\n",
       "      <td>1.150480e+07</td>\n",
       "      <td>2.000000e+01</td>\n",
       "      <td>0.000000e+00</td>\n",
       "      <td>0.000000e+00</td>\n",
       "      <td>0.000000e+00</td>\n",
       "      <td>2.630000e+03</td>\n",
       "      <td>1.000000e+00</td>\n",
       "      <td>1.000000e+01</td>\n",
       "    </tr>\n",
       "    <tr>\n",
       "      <th>25%</th>\n",
       "      <td>1.342226e+07</td>\n",
       "      <td>2.400000e+01</td>\n",
       "      <td>1.000000e+00</td>\n",
       "      <td>1.500000e+01</td>\n",
       "      <td>0.000000e+00</td>\n",
       "      <td>2.528000e+04</td>\n",
       "      <td>2.900000e+01</td>\n",
       "      <td>9.900000e+01</td>\n",
       "    </tr>\n",
       "    <tr>\n",
       "      <th>50%</th>\n",
       "      <td>1.533973e+07</td>\n",
       "      <td>3.600000e+01</td>\n",
       "      <td>1.000000e+00</td>\n",
       "      <td>2.800000e+01</td>\n",
       "      <td>0.000000e+00</td>\n",
       "      <td>3.182700e+04</td>\n",
       "      <td>1.510000e+02</td>\n",
       "      <td>1.660000e+02</td>\n",
       "    </tr>\n",
       "    <tr>\n",
       "      <th>75%</th>\n",
       "      <td>1.725720e+07</td>\n",
       "      <td>4.900000e+01</td>\n",
       "      <td>1.000000e+00</td>\n",
       "      <td>3.500000e+01</td>\n",
       "      <td>1.000000e+00</td>\n",
       "      <td>3.946000e+04</td>\n",
       "      <td>1.520000e+02</td>\n",
       "      <td>2.320000e+02</td>\n",
       "    </tr>\n",
       "    <tr>\n",
       "      <th>max</th>\n",
       "      <td>1.917466e+07</td>\n",
       "      <td>8.500000e+01</td>\n",
       "      <td>1.000000e+00</td>\n",
       "      <td>5.200000e+01</td>\n",
       "      <td>1.000000e+00</td>\n",
       "      <td>5.401650e+05</td>\n",
       "      <td>1.630000e+02</td>\n",
       "      <td>2.990000e+02</td>\n",
       "    </tr>\n",
       "  </tbody>\n",
       "</table>\n",
       "</div>"
      ],
      "text/plain": [
       "                 id           Age  Driving_License   Region_Code  \\\n",
       "count  7.669866e+06  7.669866e+06     7.669866e+06  7.669866e+06   \n",
       "mean   1.533973e+07  3.839137e+01     9.980208e-01  2.642661e+01   \n",
       "std    2.214100e+06  1.499951e+01     4.444387e-02  1.299433e+01   \n",
       "min    1.150480e+07  2.000000e+01     0.000000e+00  0.000000e+00   \n",
       "25%    1.342226e+07  2.400000e+01     1.000000e+00  1.500000e+01   \n",
       "50%    1.533973e+07  3.600000e+01     1.000000e+00  2.800000e+01   \n",
       "75%    1.725720e+07  4.900000e+01     1.000000e+00  3.500000e+01   \n",
       "max    1.917466e+07  8.500000e+01     1.000000e+00  5.200000e+01   \n",
       "\n",
       "       Previously_Insured  Annual_Premium  Policy_Sales_Channel       Vintage  \n",
       "count        7.669866e+06    7.669866e+06          7.669866e+06  7.669866e+06  \n",
       "mean         4.630772e-01    3.046553e+04          1.123650e+02  1.638996e+02  \n",
       "std          4.986349e-01    1.644586e+04          5.407358e+01  7.998445e+01  \n",
       "min          0.000000e+00    2.630000e+03          1.000000e+00  1.000000e+01  \n",
       "25%          0.000000e+00    2.528000e+04          2.900000e+01  9.900000e+01  \n",
       "50%          0.000000e+00    3.182700e+04          1.510000e+02  1.660000e+02  \n",
       "75%          1.000000e+00    3.946000e+04          1.520000e+02  2.320000e+02  \n",
       "max          1.000000e+00    5.401650e+05          1.630000e+02  2.990000e+02  "
      ]
     },
     "execution_count": 14,
     "metadata": {},
     "output_type": "execute_result"
    }
   ],
   "source": [
    "test_df.describe()"
   ]
  },
  {
   "cell_type": "markdown",
   "id": "2652458b",
   "metadata": {},
   "source": [
    "Рассмотрим полученную информацию подробнее.\n",
    "\n",
    "Всего в таблице 11 столбцов, тип данных - `int`(5), `object`(3), `float`(3). Исходя из описательной статистики видно, что значения медианы и среднего в некоторых столбцах отличается, что, возможно, говорит о выбросах в данных."
   ]
  },
  {
   "cell_type": "markdown",
   "id": "8170a5bc",
   "metadata": {},
   "source": [
    "## Вывод"
   ]
  },
  {
   "cell_type": "markdown",
   "id": "f2165781",
   "metadata": {},
   "source": [
    "Каждая строка таблиц содержит информацию о клиенте. Необходимо сделать проверку данных:\n",
    "\n",
    "- Проверить данные на наличие пропусков и заполнить их или удалить, если они не очень критичны.\n",
    "- Сделать проверку на явные и неявные дубликаты и исправить их, если они будут найдены.\n",
    "- Изменить типы данных для эффективного управления памятью"
   ]
  },
  {
   "cell_type": "markdown",
   "id": "ea54f33a",
   "metadata": {},
   "source": [
    "# Предобработка данных\n",
    "## Изменение типов данных"
   ]
  },
  {
   "cell_type": "markdown",
   "id": "a56165dc",
   "metadata": {},
   "source": [
    "Так как у нас очень много значений, важно использовать эффективно память компьютера. Для этого изменим типы данных."
   ]
  },
  {
   "cell_type": "code",
   "execution_count": 15,
   "id": "2f2a14f9",
   "metadata": {
    "ExecuteTime": {
     "end_time": "2024-08-05T18:43:47.758363Z",
     "start_time": "2024-08-05T18:43:46.070870Z"
    }
   },
   "outputs": [],
   "source": [
    "train_df['Gender'] = train_df['Gender'].astype('category')\n",
    "train_df['Vehicle_Age'] = train_df['Vehicle_Age'].astype('category')\n",
    "train_df['Vehicle_Damage'] = train_df['Vehicle_Damage'].astype('category')\n",
    "train_df['Age'] = train_df['Age'].astype('int8')\n",
    "train_df['Driving_License'] = train_df['Driving_License'].astype('int8')\n",
    "train_df['Region_Code'] = train_df['Region_Code'].astype('int8')\n",
    "train_df['Previously_Insured'] = train_df['Previously_Insured'].astype('int8')\n",
    "train_df['Annual_Premium'] = train_df['Annual_Premium'].astype('int32')\n",
    "train_df['Policy_Sales_Channel'] = train_df['Policy_Sales_Channel'].astype(\n",
    "    'int32')\n",
    "train_df['Vintage'] = train_df['Vintage'].astype('int32')\n",
    "train_df['Response'] = train_df['Response'].astype('int8')"
   ]
  },
  {
   "cell_type": "markdown",
   "id": "fd68589a",
   "metadata": {},
   "source": [
    "И тоже самое сделаем для тестового датасета"
   ]
  },
  {
   "cell_type": "code",
   "execution_count": 16,
   "id": "6942bd90",
   "metadata": {
    "ExecuteTime": {
     "end_time": "2024-08-05T18:43:50.628835Z",
     "start_time": "2024-08-05T18:43:49.510608Z"
    }
   },
   "outputs": [],
   "source": [
    "test_df['Gender'] = test_df['Gender'].astype('category')\n",
    "test_df['Vehicle_Age'] = test_df['Vehicle_Age'].astype('category')\n",
    "test_df['Vehicle_Damage'] = test_df['Vehicle_Damage'].astype('category')\n",
    "test_df['Age'] = test_df['Age'].astype('int8')\n",
    "test_df['Driving_License'] = test_df['Driving_License'].astype('int8')\n",
    "test_df['Region_Code'] = test_df['Region_Code'].astype('int8')\n",
    "test_df['Previously_Insured'] = test_df['Previously_Insured'].astype('int8')\n",
    "test_df['Annual_Premium'] = test_df['Annual_Premium'].astype('int32')\n",
    "test_df['Policy_Sales_Channel'] = test_df['Policy_Sales_Channel'].astype(\n",
    "    'int32')\n",
    "test_df['Vintage'] = test_df['Vintage'].astype('int32')"
   ]
  },
  {
   "cell_type": "markdown",
   "id": "c606e734",
   "metadata": {},
   "source": [
    "## Работа с пропусками"
   ]
  },
  {
   "cell_type": "markdown",
   "id": "c1179ae2",
   "metadata": {},
   "source": [
    "Проверим наличие пропусков в датафреймах и их долю от общего числа"
   ]
  },
  {
   "cell_type": "code",
   "execution_count": 24,
   "id": "f5e3541d",
   "metadata": {
    "ExecuteTime": {
     "end_time": "2024-07-25T18:21:51.148420Z",
     "start_time": "2024-07-25T18:21:51.000228Z"
    }
   },
   "outputs": [],
   "source": [
    "count_na_train = pd.Series(train_df.isna().sum(), name='Пропуски')"
   ]
  },
  {
   "cell_type": "code",
   "execution_count": 25,
   "id": "5b140946",
   "metadata": {
    "ExecuteTime": {
     "end_time": "2024-07-25T18:21:51.753152Z",
     "start_time": "2024-07-25T18:21:51.604709Z"
    }
   },
   "outputs": [],
   "source": [
    "proportion_na_train = pd.Series(\n",
    "    (train_df.isna().sum() / len(train_df)).round(4) * 100, name='Доля')"
   ]
  },
  {
   "cell_type": "code",
   "execution_count": 26,
   "id": "8e63059a",
   "metadata": {
    "ExecuteTime": {
     "end_time": "2024-07-25T18:21:52.234185Z",
     "start_time": "2024-07-25T18:21:52.225753Z"
    }
   },
   "outputs": [
    {
     "data": {
      "text/html": [
       "<div>\n",
       "<style scoped>\n",
       "    .dataframe tbody tr th:only-of-type {\n",
       "        vertical-align: middle;\n",
       "    }\n",
       "\n",
       "    .dataframe tbody tr th {\n",
       "        vertical-align: top;\n",
       "    }\n",
       "\n",
       "    .dataframe thead th {\n",
       "        text-align: right;\n",
       "    }\n",
       "</style>\n",
       "<table border=\"1\" class=\"dataframe\">\n",
       "  <thead>\n",
       "    <tr style=\"text-align: right;\">\n",
       "      <th></th>\n",
       "      <th>Пропуски</th>\n",
       "      <th>Доля</th>\n",
       "    </tr>\n",
       "  </thead>\n",
       "  <tbody>\n",
       "    <tr>\n",
       "      <th>id</th>\n",
       "      <td>0</td>\n",
       "      <td>0.0</td>\n",
       "    </tr>\n",
       "    <tr>\n",
       "      <th>Gender</th>\n",
       "      <td>0</td>\n",
       "      <td>0.0</td>\n",
       "    </tr>\n",
       "    <tr>\n",
       "      <th>Age</th>\n",
       "      <td>0</td>\n",
       "      <td>0.0</td>\n",
       "    </tr>\n",
       "    <tr>\n",
       "      <th>Driving_License</th>\n",
       "      <td>0</td>\n",
       "      <td>0.0</td>\n",
       "    </tr>\n",
       "    <tr>\n",
       "      <th>Region_Code</th>\n",
       "      <td>0</td>\n",
       "      <td>0.0</td>\n",
       "    </tr>\n",
       "    <tr>\n",
       "      <th>Previously_Insured</th>\n",
       "      <td>0</td>\n",
       "      <td>0.0</td>\n",
       "    </tr>\n",
       "    <tr>\n",
       "      <th>Vehicle_Age</th>\n",
       "      <td>0</td>\n",
       "      <td>0.0</td>\n",
       "    </tr>\n",
       "    <tr>\n",
       "      <th>Vehicle_Damage</th>\n",
       "      <td>0</td>\n",
       "      <td>0.0</td>\n",
       "    </tr>\n",
       "    <tr>\n",
       "      <th>Annual_Premium</th>\n",
       "      <td>0</td>\n",
       "      <td>0.0</td>\n",
       "    </tr>\n",
       "    <tr>\n",
       "      <th>Policy_Sales_Channel</th>\n",
       "      <td>0</td>\n",
       "      <td>0.0</td>\n",
       "    </tr>\n",
       "    <tr>\n",
       "      <th>Vintage</th>\n",
       "      <td>0</td>\n",
       "      <td>0.0</td>\n",
       "    </tr>\n",
       "    <tr>\n",
       "      <th>Response</th>\n",
       "      <td>0</td>\n",
       "      <td>0.0</td>\n",
       "    </tr>\n",
       "  </tbody>\n",
       "</table>\n",
       "</div>"
      ],
      "text/plain": [
       "                      Пропуски  Доля\n",
       "id                           0   0.0\n",
       "Gender                       0   0.0\n",
       "Age                          0   0.0\n",
       "Driving_License              0   0.0\n",
       "Region_Code                  0   0.0\n",
       "Previously_Insured           0   0.0\n",
       "Vehicle_Age                  0   0.0\n",
       "Vehicle_Damage               0   0.0\n",
       "Annual_Premium               0   0.0\n",
       "Policy_Sales_Channel         0   0.0\n",
       "Vintage                      0   0.0\n",
       "Response                     0   0.0"
      ]
     },
     "execution_count": 26,
     "metadata": {},
     "output_type": "execute_result"
    }
   ],
   "source": [
    "pd.concat([count_na_train, proportion_na_train],\n",
    "          axis=1).sort_values(by='Доля', ascending=False)"
   ]
  },
  {
   "cell_type": "markdown",
   "id": "6efe69d0",
   "metadata": {},
   "source": [
    "В таблице с обучающимся набором данных пропусков не обнаружено"
   ]
  },
  {
   "cell_type": "code",
   "execution_count": 27,
   "id": "dcc49ad1",
   "metadata": {
    "ExecuteTime": {
     "end_time": "2024-07-25T18:21:54.674297Z",
     "start_time": "2024-07-25T18:21:54.580525Z"
    }
   },
   "outputs": [],
   "source": [
    "count_na_test = pd.Series(test_df.isna().sum(), name='Пропуски')"
   ]
  },
  {
   "cell_type": "code",
   "execution_count": 28,
   "id": "bc2cd2d0",
   "metadata": {
    "ExecuteTime": {
     "end_time": "2024-07-25T18:21:55.265194Z",
     "start_time": "2024-07-25T18:21:55.169838Z"
    }
   },
   "outputs": [],
   "source": [
    "proportion_na_test = pd.Series(\n",
    "    (test_df.isna().sum() / len(test_df)).round(4) * 100, name='Доля')"
   ]
  },
  {
   "cell_type": "code",
   "execution_count": 29,
   "id": "637efc6b",
   "metadata": {
    "ExecuteTime": {
     "end_time": "2024-07-25T18:21:55.619196Z",
     "start_time": "2024-07-25T18:21:55.611685Z"
    }
   },
   "outputs": [
    {
     "data": {
      "text/html": [
       "<div>\n",
       "<style scoped>\n",
       "    .dataframe tbody tr th:only-of-type {\n",
       "        vertical-align: middle;\n",
       "    }\n",
       "\n",
       "    .dataframe tbody tr th {\n",
       "        vertical-align: top;\n",
       "    }\n",
       "\n",
       "    .dataframe thead th {\n",
       "        text-align: right;\n",
       "    }\n",
       "</style>\n",
       "<table border=\"1\" class=\"dataframe\">\n",
       "  <thead>\n",
       "    <tr style=\"text-align: right;\">\n",
       "      <th></th>\n",
       "      <th>Пропуски</th>\n",
       "      <th>Доля</th>\n",
       "    </tr>\n",
       "  </thead>\n",
       "  <tbody>\n",
       "    <tr>\n",
       "      <th>id</th>\n",
       "      <td>0</td>\n",
       "      <td>0.0</td>\n",
       "    </tr>\n",
       "    <tr>\n",
       "      <th>Gender</th>\n",
       "      <td>0</td>\n",
       "      <td>0.0</td>\n",
       "    </tr>\n",
       "    <tr>\n",
       "      <th>Age</th>\n",
       "      <td>0</td>\n",
       "      <td>0.0</td>\n",
       "    </tr>\n",
       "    <tr>\n",
       "      <th>Driving_License</th>\n",
       "      <td>0</td>\n",
       "      <td>0.0</td>\n",
       "    </tr>\n",
       "    <tr>\n",
       "      <th>Region_Code</th>\n",
       "      <td>0</td>\n",
       "      <td>0.0</td>\n",
       "    </tr>\n",
       "    <tr>\n",
       "      <th>Previously_Insured</th>\n",
       "      <td>0</td>\n",
       "      <td>0.0</td>\n",
       "    </tr>\n",
       "    <tr>\n",
       "      <th>Vehicle_Age</th>\n",
       "      <td>0</td>\n",
       "      <td>0.0</td>\n",
       "    </tr>\n",
       "    <tr>\n",
       "      <th>Vehicle_Damage</th>\n",
       "      <td>0</td>\n",
       "      <td>0.0</td>\n",
       "    </tr>\n",
       "    <tr>\n",
       "      <th>Annual_Premium</th>\n",
       "      <td>0</td>\n",
       "      <td>0.0</td>\n",
       "    </tr>\n",
       "    <tr>\n",
       "      <th>Policy_Sales_Channel</th>\n",
       "      <td>0</td>\n",
       "      <td>0.0</td>\n",
       "    </tr>\n",
       "    <tr>\n",
       "      <th>Vintage</th>\n",
       "      <td>0</td>\n",
       "      <td>0.0</td>\n",
       "    </tr>\n",
       "  </tbody>\n",
       "</table>\n",
       "</div>"
      ],
      "text/plain": [
       "                      Пропуски  Доля\n",
       "id                           0   0.0\n",
       "Gender                       0   0.0\n",
       "Age                          0   0.0\n",
       "Driving_License              0   0.0\n",
       "Region_Code                  0   0.0\n",
       "Previously_Insured           0   0.0\n",
       "Vehicle_Age                  0   0.0\n",
       "Vehicle_Damage               0   0.0\n",
       "Annual_Premium               0   0.0\n",
       "Policy_Sales_Channel         0   0.0\n",
       "Vintage                      0   0.0"
      ]
     },
     "execution_count": 29,
     "metadata": {},
     "output_type": "execute_result"
    }
   ],
   "source": [
    "pd.concat([count_na_test, proportion_na_test],\n",
    "          axis=1).sort_values(by='Доля', ascending=False)"
   ]
  },
  {
   "cell_type": "markdown",
   "id": "5a1639c1",
   "metadata": {},
   "source": [
    "В таблице с тестовыми данными пропусков не обнаружено"
   ]
  },
  {
   "cell_type": "markdown",
   "id": "dd41bdc2",
   "metadata": {},
   "source": [
    "## Работа с явными дубликатами"
   ]
  },
  {
   "cell_type": "markdown",
   "id": "f2f745af",
   "metadata": {},
   "source": [
    "Проверим имеющиеся датасеты на наличие явных дубликатов."
   ]
  },
  {
   "cell_type": "code",
   "execution_count": 30,
   "id": "5f3b93e0",
   "metadata": {
    "ExecuteTime": {
     "end_time": "2024-07-25T18:22:02.002435Z",
     "start_time": "2024-07-25T18:21:58.097003Z"
    }
   },
   "outputs": [
    {
     "data": {
      "text/plain": [
       "0"
      ]
     },
     "execution_count": 30,
     "metadata": {},
     "output_type": "execute_result"
    }
   ],
   "source": [
    "train_df.duplicated().sum()  # Считаем количество дубликатов"
   ]
  },
  {
   "cell_type": "code",
   "execution_count": 31,
   "id": "3c808ec2",
   "metadata": {
    "ExecuteTime": {
     "end_time": "2024-07-25T18:22:07.265102Z",
     "start_time": "2024-07-25T18:22:04.834246Z"
    }
   },
   "outputs": [
    {
     "data": {
      "text/plain": [
       "0"
      ]
     },
     "execution_count": 31,
     "metadata": {},
     "output_type": "execute_result"
    }
   ],
   "source": [
    "test_df.duplicated().sum()  # Считаем количество дубликатов"
   ]
  },
  {
   "cell_type": "markdown",
   "id": "d2047cf2",
   "metadata": {},
   "source": [
    "Ни в одном датасете дубликатов не обнаружено"
   ]
  },
  {
   "cell_type": "markdown",
   "id": "3abf6da6",
   "metadata": {},
   "source": [
    "## Работа с неявными дубликатами"
   ]
  },
  {
   "cell_type": "markdown",
   "id": "46864ecd",
   "metadata": {},
   "source": [
    "Проверим столбцы `Gender`, `Vehicle_Age`, `Vehicle_Damage` и `Region_Code` на наличие неявных дубликатов. Возможно в этих столбцах одно и то же значение написано с разным регистром или же есть лишние пробелы. Также одно и то же значение может быть написано по-разному.\n",
    "\n",
    "Начнем с тренировочного набора."
   ]
  },
  {
   "cell_type": "code",
   "execution_count": 17,
   "id": "4d461bc8",
   "metadata": {
    "ExecuteTime": {
     "end_time": "2024-08-05T18:44:06.313258Z",
     "start_time": "2024-08-05T18:44:06.254057Z"
    }
   },
   "outputs": [
    {
     "data": {
      "text/plain": [
       "Gender\n",
       "Male      6228134\n",
       "Female    5276664\n",
       "Name: count, dtype: int64"
      ]
     },
     "execution_count": 17,
     "metadata": {},
     "output_type": "execute_result"
    }
   ],
   "source": [
    "# Выводим количество уникальных значений\n",
    "gender_tn = train_df['Gender'].value_counts()\n",
    "gender_tn"
   ]
  },
  {
   "cell_type": "code",
   "execution_count": 18,
   "id": "bdc70dfe",
   "metadata": {
    "ExecuteTime": {
     "end_time": "2024-08-05T18:44:06.965456Z",
     "start_time": "2024-08-05T18:44:06.907593Z"
    }
   },
   "outputs": [
    {
     "data": {
      "text/plain": [
       "Vehicle_Age\n",
       "1-2 Year     5982678\n",
       "< 1 Year     5044145\n",
       "> 2 Years     477975\n",
       "Name: count, dtype: int64"
      ]
     },
     "execution_count": 18,
     "metadata": {},
     "output_type": "execute_result"
    }
   ],
   "source": [
    "# Выводим количество уникальных значений\n",
    "vehicle_age_tn = train_df['Vehicle_Age'].value_counts()\n",
    "vehicle_age_tn"
   ]
  },
  {
   "cell_type": "code",
   "execution_count": 19,
   "id": "8e83fd0c",
   "metadata": {
    "ExecuteTime": {
     "end_time": "2024-08-05T18:44:07.377261Z",
     "start_time": "2024-08-05T18:44:07.316949Z"
    },
    "scrolled": true
   },
   "outputs": [
    {
     "data": {
      "text/plain": [
       "Vehicle_Damage\n",
       "Yes    5783229\n",
       "No     5721569\n",
       "Name: count, dtype: int64"
      ]
     },
     "execution_count": 19,
     "metadata": {},
     "output_type": "execute_result"
    }
   ],
   "source": [
    "# Выводим количество уникальных значений\n",
    "vehicle_damage_tn = train_df['Vehicle_Damage'].value_counts()\n",
    "vehicle_damage_tn"
   ]
  },
  {
   "cell_type": "code",
   "execution_count": 20,
   "id": "f4406f79",
   "metadata": {
    "ExecuteTime": {
     "end_time": "2024-08-05T18:44:10.136004Z",
     "start_time": "2024-08-05T18:44:10.065812Z"
    },
    "scrolled": false
   },
   "outputs": [
    {
     "data": {
      "text/plain": [
       "Region_Code\n",
       "28    3451062\n",
       "8     1021036\n",
       "46     578208\n",
       "41     557581\n",
       "15     403977\n",
       "30     367307\n",
       "29     338146\n",
       "50     302334\n",
       "11     278261\n",
       "36     261946\n",
       "3      246303\n",
       "33     232387\n",
       "47     229190\n",
       "35     200035\n",
       "6      181122\n",
       "45     159292\n",
       "37     158976\n",
       "18     148548\n",
       "39     138069\n",
       "14     134585\n",
       "21     126793\n",
       "10     126081\n",
       "2      118097\n",
       "48     114230\n",
       "13     108838\n",
       "9       93371\n",
       "7       92240\n",
       "12      92142\n",
       "27      78878\n",
       "32      78797\n",
       "43      75868\n",
       "17      74533\n",
       "26      71228\n",
       "25      70556\n",
       "24      69136\n",
       "38      60587\n",
       "0       59274\n",
       "20      58765\n",
       "31      58442\n",
       "16      54905\n",
       "23      54518\n",
       "4       52504\n",
       "49      50822\n",
       "34      48685\n",
       "19      44197\n",
       "22      36932\n",
       "5       36832\n",
       "40      35888\n",
       "1       33966\n",
       "44      20305\n",
       "42      13693\n",
       "52       3450\n",
       "51       1880\n",
       "Name: count, dtype: int64"
      ]
     },
     "execution_count": 20,
     "metadata": {},
     "output_type": "execute_result"
    }
   ],
   "source": [
    "# Выводим количество уникальных значений\n",
    "region_code_tn = train_df['Region_Code'].value_counts()\n",
    "region_code_tn"
   ]
  },
  {
   "cell_type": "markdown",
   "id": "23142992",
   "metadata": {},
   "source": [
    "Теперь проверим тестовые данные."
   ]
  },
  {
   "cell_type": "code",
   "execution_count": 21,
   "id": "cc76d802",
   "metadata": {
    "ExecuteTime": {
     "end_time": "2024-08-05T18:44:12.612989Z",
     "start_time": "2024-08-05T18:44:12.570052Z"
    }
   },
   "outputs": [
    {
     "data": {
      "text/plain": [
       "Gender\n",
       "Male      4151402\n",
       "Female    3518464\n",
       "Name: count, dtype: int64"
      ]
     },
     "execution_count": 21,
     "metadata": {},
     "output_type": "execute_result"
    }
   ],
   "source": [
    "# Выводим количество уникальных значений\n",
    "gender_ts = test_df['Gender'].value_counts()\n",
    "gender_ts"
   ]
  },
  {
   "cell_type": "code",
   "execution_count": 22,
   "id": "be4f96cd",
   "metadata": {
    "ExecuteTime": {
     "end_time": "2024-08-05T18:44:12.986502Z",
     "start_time": "2024-08-05T18:44:12.944935Z"
    }
   },
   "outputs": [
    {
     "data": {
      "text/plain": [
       "Vehicle_Age\n",
       "1-2 Year     3989276\n",
       "< 1 Year     3361255\n",
       "> 2 Years     319335\n",
       "Name: count, dtype: int64"
      ]
     },
     "execution_count": 22,
     "metadata": {},
     "output_type": "execute_result"
    }
   ],
   "source": [
    "# Выводим количество уникальных значений\n",
    "vehicle_age_ts = test_df['Vehicle_Age'].value_counts()\n",
    "vehicle_age_ts"
   ]
  },
  {
   "cell_type": "code",
   "execution_count": 23,
   "id": "c09a06f3",
   "metadata": {
    "ExecuteTime": {
     "end_time": "2024-08-05T18:44:15.081893Z",
     "start_time": "2024-08-05T18:44:15.038128Z"
    }
   },
   "outputs": [
    {
     "data": {
      "text/plain": [
       "Vehicle_Damage\n",
       "Yes    3854463\n",
       "No     3815403\n",
       "Name: count, dtype: int64"
      ]
     },
     "execution_count": 23,
     "metadata": {},
     "output_type": "execute_result"
    }
   ],
   "source": [
    "# Выводим количество уникальных значений\n",
    "vehicle_damage_ts = test_df['Vehicle_Damage'].value_counts()\n",
    "vehicle_damage_ts"
   ]
  },
  {
   "cell_type": "code",
   "execution_count": 24,
   "id": "6bd7cf3f",
   "metadata": {
    "ExecuteTime": {
     "end_time": "2024-08-05T18:44:17.621775Z",
     "start_time": "2024-08-05T18:44:17.576604Z"
    }
   },
   "outputs": [
    {
     "data": {
      "text/plain": [
       "Region_Code\n",
       "28    2299652\n",
       "8      681778\n",
       "46     386147\n",
       "41     372203\n",
       "15     268477\n",
       "30     244864\n",
       "29     224596\n",
       "50     201968\n",
       "11     184821\n",
       "36     174967\n",
       "3      164427\n",
       "33     155735\n",
       "47     152803\n",
       "35     133825\n",
       "6      120975\n",
       "45     105868\n",
       "37     105620\n",
       "18      99023\n",
       "39      91993\n",
       "14      90023\n",
       "21      84503\n",
       "10      83607\n",
       "2       78461\n",
       "48      76381\n",
       "13      72542\n",
       "9       62304\n",
       "7       61745\n",
       "12      61717\n",
       "32      52787\n",
       "27      52315\n",
       "43      50970\n",
       "17      49492\n",
       "26      47810\n",
       "25      46793\n",
       "24      46316\n",
       "38      40562\n",
       "0       39320\n",
       "31      39143\n",
       "20      38648\n",
       "16      36905\n",
       "23      36176\n",
       "4       34954\n",
       "49      34036\n",
       "34      32328\n",
       "19      29253\n",
       "22      24443\n",
       "5       24220\n",
       "40      23831\n",
       "1       22359\n",
       "44      13583\n",
       "42       9042\n",
       "52       2295\n",
       "51       1260\n",
       "Name: count, dtype: int64"
      ]
     },
     "execution_count": 24,
     "metadata": {},
     "output_type": "execute_result"
    }
   ],
   "source": [
    "# Выводим количество уникальных значений\n",
    "region_code_ts = test_df['Region_Code'].value_counts()\n",
    "region_code_ts"
   ]
  },
  {
   "cell_type": "markdown",
   "id": "7bbf650e",
   "metadata": {},
   "source": [
    "## Вывод"
   ]
  },
  {
   "cell_type": "markdown",
   "id": "558446b5",
   "metadata": {},
   "source": [
    "На данном этапе были сделаны следующие действия:\n",
    "\n",
    "- Сделали проверку на пропуски в данных. В результате пропуски не были найдены.\n",
    "- Сделали проверку на явные дубликаты. В результате они не были обнаружены.\n",
    "- Сделали проверку на неявные дубликаты в столбцах `Gender`, `Vehicle_Age`, `Vehicle_Damage` и `Region_Code`. В результате они не были обнаружены.\n",
    "- Изменили типы данных для эффективного управления памятью"
   ]
  },
  {
   "cell_type": "markdown",
   "id": "d30dc9ac",
   "metadata": {},
   "source": [
    "# Исследовательский анализ данных"
   ]
  },
  {
   "cell_type": "markdown",
   "id": "4d68df68",
   "metadata": {},
   "source": [
    "Исследуем данные в датафрейме `train_df`:\n",
    "\n",
    "- Посмотрим на соотношение целевого признака - `Response`\n",
    "- Посмотрим на соотношение остальных категориальных данных - `Gender`, `Driving_License`, `Previously_Insured`, `Vehicle_Age`, `Vehicle_Damage`.\n",
    "- Изучим количественные переменные: `Age`, `Annual_Premium`, `Policy_Sales_Channel` и `Vintage` в зависимости от таргета.\n",
    "\n",
    "Для тестового набора данных проводить анализ не будем, так как этот набор данных является выборкой из тренировочного, а следовательно, имеет такие же свойства, как и у тренировочного, так как выборка репрезентативна."
   ]
  },
  {
   "cell_type": "code",
   "execution_count": 25,
   "id": "112ea717",
   "metadata": {
    "ExecuteTime": {
     "end_time": "2024-08-05T18:44:23.408192Z",
     "start_time": "2024-08-05T18:44:22.585622Z"
    },
    "scrolled": false
   },
   "outputs": [
    {
     "data": {
      "image/png": "[encoded data removed]",
      "text/plain": [
       "<Figure size 1500x1000 with 6 Axes>"
      ]
     },
     "metadata": {},
     "output_type": "display_data"
    }
   ],
   "source": [
    "plt.figure(figsize=(15, 10))\n",
    "\n",
    "plt.suptitle('Процентное соотношение', fontsize=20, fontweight='bold')\n",
    "\n",
    "plt.subplot(2, 3, 1)\n",
    "plt.pie(train_df['Previously_Insured'].value_counts().values,\n",
    "        labels=train_df['Previously_Insured'].value_counts().index,\n",
    "        wedgeprops={'linewidth': 4, 'edgecolor': 'white'},\n",
    "        autopct='%.1f%%')\n",
    "plt.title('Previously_Insured')\n",
    "\n",
    "plt.subplot(2, 3, 2)\n",
    "plt.pie(train_df['Response'].value_counts().values,\n",
    "        labels=train_df['Response'].value_counts().index,\n",
    "        wedgeprops={'linewidth': 4, 'edgecolor': 'white'},\n",
    "        autopct='%.1f%%')\n",
    "plt.title('Target')\n",
    "\n",
    "plt.subplot(2, 3, 3)\n",
    "plt.pie(train_df['Driving_License'].value_counts().values,\n",
    "        labels=train_df['Driving_License'].value_counts().index,\n",
    "        autopct='%.1f%%')\n",
    "plt.title('Driving_License')\n",
    "\n",
    "plt.subplot(2, 3, 4)\n",
    "plt.pie(gender_tn.values,\n",
    "        labels=gender_tn.index,\n",
    "        wedgeprops={'linewidth': 4, 'edgecolor': 'white'},\n",
    "        autopct='%.1f%%')\n",
    "plt.title('Gender')\n",
    "\n",
    "plt.subplot(2, 3, 5)\n",
    "plt.pie(vehicle_age_tn.values,\n",
    "        labels=vehicle_age_tn.index,\n",
    "        autopct='%.1f%%')\n",
    "plt.title('Vehicle_Age')\n",
    "\n",
    "plt.subplot(2, 3, 6)\n",
    "plt.pie(vehicle_damage_tn.values,\n",
    "        labels=vehicle_damage_tn.index,\n",
    "        wedgeprops={'linewidth': 4, 'edgecolor': 'white'},\n",
    "        autopct='%.1f%%')\n",
    "plt.title('Vehicle_Damage');"
   ]
  },
  {
   "cell_type": "markdown",
   "id": "0a213aab",
   "metadata": {},
   "source": [
    "Только 12.3% клиентов положительно отнесутся к предложению об авто страховании.\n",
    "\n",
    "Практически по каждому признаку одинаковое соотношение значений:\n",
    "- `Gender`, 54.1% против 45.9%\n",
    "- `Previously_Insured`, 53.7% против 46.3%\n",
    "- `Vehicle_Damage`, 50.3% против 49.7%\n",
    "\n",
    "Исключение составляют `Driving_License`, что и логично, что у клиента должно быть водительское удостоверение, чтобы получить авто страхование. `Vehicle_Age` здесь машины старше двух лет являются меньшинством 4.2%"
   ]
  },
  {
   "cell_type": "markdown",
   "id": "b58224ae",
   "metadata": {},
   "source": [
    "Теперь приступим к изучению количественных данных и сначала построим диаграмму размаха."
   ]
  },
  {
   "cell_type": "code",
   "execution_count": 33,
   "id": "54aa56d4",
   "metadata": {
    "ExecuteTime": {
     "end_time": "2024-08-05T18:59:00.899657Z",
     "start_time": "2024-08-05T18:57:47.437247Z"
    },
    "scrolled": false
   },
   "outputs": [
    {
     "data": {
      "image/png": "[encoded data removed]",
      "text/plain": [
       "<Figure size 1500x1000 with 4 Axes>"
      ]
     },
     "metadata": {},
     "output_type": "display_data"
    }
   ],
   "source": [
    "plt.figure(figsize=(15, 10))\n",
    "\n",
    "plt.suptitle('Диаграмма размаха', fontsize=20, fontweight='bold')\n",
    "\n",
    "plt.subplot(2, 2, 1)\n",
    "sns.boxplot(y='Age', hue='Response', data=train_df, width=.1)\n",
    "sns.color_palette()\n",
    "plt.title('Age')\n",
    "\n",
    "plt.subplot(2, 2, 2)\n",
    "sns.boxplot(y='Annual_Premium', hue='Response',\n",
    "            data=train_df, width=.1)\n",
    "sns.color_palette()\n",
    "plt.title('Annual_Premium')\n",
    "\n",
    "plt.subplot(2, 2, 3)\n",
    "sns.boxplot(y='Policy_Sales_Channel', hue='Response',\n",
    "            data=train_df, width=.1)\n",
    "sns.color_palette()\n",
    "plt.title('Policy_Sales_Channel')\n",
    "\n",
    "plt.subplot(2, 2, 4)\n",
    "sns.boxplot(y='Vintage', hue='Response', data=train_df, width=.1)\n",
    "sns.color_palette()\n",
    "plt.title('Vintage');"
   ]
  },
  {
   "cell_type": "markdown",
   "id": "61df9ed2",
   "metadata": {},
   "source": [
    "Видно, что у признака `Annual_Premium` очень много выбивающиеся значения на графике `boxplot`. Необходимо более подробно изучить эти данные, чтобы понять, являются ли эти значения выбросами, но перед этим построим гистограммы распределений."
   ]
  },
  {
   "cell_type": "code",
   "execution_count": 32,
   "id": "2fd91d6a",
   "metadata": {
    "ExecuteTime": {
     "end_time": "2024-08-05T18:57:38.070400Z",
     "start_time": "2024-08-05T18:57:22.843569Z"
    }
   },
   "outputs": [
    {
     "data": {
      "image/png": "[encoded data removed]",
      "text/plain": [
       "<Figure size 1500x1000 with 4 Axes>"
      ]
     },
     "metadata": {},
     "output_type": "display_data"
    }
   ],
   "source": [
    "plt.figure(figsize=(15, 10))\n",
    "\n",
    "plt.suptitle('Гистограммы распределений', fontsize=20, fontweight='bold')\n",
    "\n",
    "plt.subplot(2, 2, 1)\n",
    "sns.histplot(data=train_df, x='Age', bins=40, hue='Response',\n",
    "             stat='density', common_norm=False)\n",
    "plt.title('Age')\n",
    "\n",
    "plt.subplot(2, 2, 2)\n",
    "sns.histplot(data=train_df, x='Annual_Premium', bins=40,\n",
    "             hue='Response', stat='density', common_norm=False)\n",
    "plt.title('Annual_Premium')\n",
    "\n",
    "plt.subplot(2, 2, 3)\n",
    "sns.histplot(data=train_df, x='Policy_Sales_Channel', bins=40,\n",
    "             hue='Response', stat='density', common_norm=False)\n",
    "plt.title('Policy_Sales_Channel')\n",
    "\n",
    "plt.subplot(2, 2, 4)\n",
    "sns.histplot(data=train_df, x='Vintage', bins=40,\n",
    "             hue='Response', stat='density', common_norm=False)\n",
    "plt.title('Vintage');"
   ]
  },
  {
   "cell_type": "markdown",
   "id": "f69a8767",
   "metadata": {},
   "source": [
    "Видно, что данные распределены ненормально, чтобы точно быть уверенным в этом, проведем статистический тест Шапиро-Уилка. Также стоит обратить внимание на `Annual_Premium` распределение этого признака имеет длинный хвост, скорее всего сильно выбивающиеся значения составляют малую часть."
   ]
  },
  {
   "cell_type": "markdown",
   "id": "2e4c5bb0",
   "metadata": {},
   "source": [
    "Перед тем как использовать тест Шапиро-Уилка необходимо сформулировать гипотезы.\n",
    "- **H0** - данные получены из нормального распределения\n",
    "- **H1** - данные не получены из нормального распределения\n",
    "\n",
    "Предположим, что верна нулевая гипотеза, тогда"
   ]
  },
  {
   "cell_type": "code",
   "execution_count": 43,
   "id": "73c8848e",
   "metadata": {
    "ExecuteTime": {
     "end_time": "2024-07-25T18:25:36.240494Z",
     "start_time": "2024-07-25T18:25:35.558853Z"
    }
   },
   "outputs": [
    {
     "name": "stdout",
     "output_type": "stream",
     "text": [
      "Отвергаем HO и принимаем H1. Данные не получены из нормального распределения\n"
     ]
    }
   ],
   "source": [
    "test_shapiro(train_df['Age'], ALPHA)"
   ]
  },
  {
   "cell_type": "code",
   "execution_count": 44,
   "id": "466794ee",
   "metadata": {
    "ExecuteTime": {
     "end_time": "2024-07-25T18:25:37.792208Z",
     "start_time": "2024-07-25T18:25:36.883059Z"
    }
   },
   "outputs": [
    {
     "name": "stdout",
     "output_type": "stream",
     "text": [
      "Отвергаем HO и принимаем H1. Данные не получены из нормального распределения\n"
     ]
    }
   ],
   "source": [
    "test_shapiro(train_df['Annual_Premium'], ALPHA)"
   ]
  },
  {
   "cell_type": "code",
   "execution_count": 45,
   "id": "9ed301fc",
   "metadata": {
    "ExecuteTime": {
     "end_time": "2024-07-25T18:25:38.781300Z",
     "start_time": "2024-07-25T18:25:38.209558Z"
    }
   },
   "outputs": [
    {
     "name": "stdout",
     "output_type": "stream",
     "text": [
      "Отвергаем HO и принимаем H1. Данные не получены из нормального распределения\n"
     ]
    }
   ],
   "source": [
    "test_shapiro(train_df['Policy_Sales_Channel'], ALPHA)"
   ]
  },
  {
   "cell_type": "code",
   "execution_count": 46,
   "id": "9f69916a",
   "metadata": {
    "ExecuteTime": {
     "end_time": "2024-07-25T18:25:39.984191Z",
     "start_time": "2024-07-25T18:25:39.239157Z"
    }
   },
   "outputs": [
    {
     "name": "stdout",
     "output_type": "stream",
     "text": [
      "Отвергаем HO и принимаем H1. Данные не получены из нормального распределения\n"
     ]
    }
   ],
   "source": [
    "test_shapiro(train_df['Vintage'], ALPHA)"
   ]
  },
  {
   "cell_type": "markdown",
   "id": "f8017ee3",
   "metadata": {},
   "source": [
    "Как и ожидалось все данные имеют не нормальное распределение."
   ]
  },
  {
   "cell_type": "code",
   "execution_count": 40,
   "id": "1b9dad9a",
   "metadata": {
    "ExecuteTime": {
     "end_time": "2024-07-18T14:07:37.880427Z",
     "start_time": "2024-07-18T14:07:37.877505Z"
    },
    "scrolled": false
   },
   "outputs": [],
   "source": [
    "#train_df[train_df['Annual_Premium'] > 100000]"
   ]
  },
  {
   "cell_type": "code",
   "execution_count": 41,
   "id": "c5cd623b",
   "metadata": {
    "ExecuteTime": {
     "end_time": "2024-07-18T14:07:37.924540Z",
     "start_time": "2024-07-18T14:07:37.882434Z"
    }
   },
   "outputs": [],
   "source": [
    "#(len(train_df[train_df['Annual_Premium'] > 100000]) / len(train_df['Annual_Premium'])) * 100"
   ]
  },
  {
   "cell_type": "markdown",
   "id": "f1d15491",
   "metadata": {},
   "source": [
    "Таких значений всего 2307 и они составляют всего 0.02% от общего числа."
   ]
  },
  {
   "cell_type": "code",
   "execution_count": 34,
   "id": "8cbd675f",
   "metadata": {
    "ExecuteTime": {
     "end_time": "2024-08-05T19:00:17.304825Z",
     "start_time": "2024-08-05T19:00:17.302025Z"
    }
   },
   "outputs": [],
   "source": [
    "#train_df = train_df[train_df['Annual_Premium'] < 100000]"
   ]
  },
  {
   "cell_type": "markdown",
   "id": "796aecf6",
   "metadata": {},
   "source": [
    "## Вывод"
   ]
  },
  {
   "cell_type": "markdown",
   "id": "9a45b3fb",
   "metadata": {},
   "source": [
    "На данном этапе были получены следующие результаты:\n",
    "1. Узнали соотношение целевого признака `Response`: 87.7% - `0` и 12.3% - `1`\n",
    "2. Узнали соотношение остальных категориальных данных - `Gender`, `Driving_License`, `Previously_Insured`, `Vehicle_Age`, `Vehicle_Damage`. У большинства признаков значения имеют одинаковое соотношение. Выделяется только столбец `Driving_License` - 99.8 у `1`, что и логично, что у клиента должно быть водительское удостоверение, чтобы получить авто страхование.\n",
    "3. Проверили количественные признаки на выбросы. Были выделяющиеся значения в столбце `Annual_Premium`. В целом такие значения возможны, так как сумму, которую необходимо заплатить клиенту зависит от разных факторов.\n",
    "4. Проверили наши данные на нормальность. Все количественные признаки имеют ненормальное распределение."
   ]
  },
  {
   "cell_type": "markdown",
   "id": "2d63e62c",
   "metadata": {},
   "source": [
    "# Корреляционный анализ"
   ]
  },
  {
   "cell_type": "markdown",
   "id": "92c6e4dd",
   "metadata": {},
   "source": [
    "Приступим к корреляционному анализу. Так как на предыдущем этапе мы выяснили, что данные у нас распределены ненормально, то для расчета корреляции воспользуемся корреляцией $\\phi_k$. Сосчитаем  ее при помощи библиотеки phik для всех наших признаков. Так как значений в датасетах много, воспользуемся функцией `sample` для создания репрезентативной выборки."
   ]
  },
  {
   "cell_type": "code",
   "execution_count": 44,
   "id": "d0686976",
   "metadata": {
    "ExecuteTime": {
     "end_time": "2024-07-18T14:07:41.623522Z",
     "start_time": "2024-07-18T14:07:38.021593Z"
    }
   },
   "outputs": [],
   "source": [
    "# Расчитываем коэффициент корреляции Фи\n",
    "phik_matrix_train = train_df.drop(columns='id', axis=1).sample(50000).phik_matrix(interval_cols=[\n",
    "    'Age', 'Region_Code', 'Annual_Premium', 'Policy_Sales_Channel', 'Vintage'])"
   ]
  },
  {
   "cell_type": "code",
   "execution_count": 45,
   "id": "3eb6f22d",
   "metadata": {
    "ExecuteTime": {
     "end_time": "2024-07-18T14:07:42.531856Z",
     "start_time": "2024-07-18T14:07:41.624528Z"
    }
   },
   "outputs": [
    {
     "data": {
      "image/png": "[encoded data removed]",
      "text/plain": [
       "<Figure size 700x700 with 2 Axes>"
      ]
     },
     "metadata": {},
     "output_type": "display_data"
    }
   ],
   "source": [
    "plot_correlation_matrix(phik_matrix_train.values, x_labels=phik_matrix_train.columns, y_labels=phik_matrix_train.index,\n",
    "                        vmin=0, vmax=1, color_map='coolwarm', title='Корреляция $\\phi_k$', fontsize_factor=1,\n",
    "                        figsize=(7, 7))\n",
    "\n",
    "plt.tight_layout()"
   ]
  },
  {
   "cell_type": "markdown",
   "id": "4ee3a534",
   "metadata": {},
   "source": [
    "Наш целевой признак `Response`. \n",
    "\n",
    "У него отсутствует взаимосвязь с `Driving_Licinse` и `Annual_Premium` - 0.00 и 0.03. Также очень слабая взаимосвязь с `Vintage` и `Gender` - 0.07 и 0.07. \n",
    "Есть взаимосвязь с `Vehicle_Damage` и `Previously_Insured` - 0.54 и 0.52. \n",
    "\n",
    "Также можно заметить, что в данных присутствует мультиколлинеарность между `Vehicle_Damage` и `Previously_Insured`. \n",
    "\n",
    "Заметная взаимосвязь между `Policy_Sales_Channel` и `Vehicle_Age`/ `Age` 0.70 и 0.68 соответственно.\n",
    "\n",
    "*Так как в дальнейшем решил отказаться от Логистической регрессии и использовать только Градиентный бустинг, то избавляться от мультиколлинеарности нет необходимости, а следовательно удалять столбец `Previously_Insured` не будем*\n",
    "\n",
    "*Также после некоторых попыток стало понятно, что удалять столбцы `Driving_License` и `Annual_Premium` не стоит, хоть они и не вносят никого вклада. (результаты модели становились хуже)*"
   ]
  },
  {
   "cell_type": "code",
   "execution_count": 10,
   "id": "d41b9284",
   "metadata": {
    "ExecuteTime": {
     "end_time": "2024-07-25T19:18:31.147394Z",
     "start_time": "2024-07-25T19:18:30.940954Z"
    }
   },
   "outputs": [],
   "source": [
    "#train_df_del = train_df.drop(columns=['Previously_Insured', 'Driving_License', 'Annual_Premium'])"
   ]
  },
  {
   "cell_type": "code",
   "execution_count": 47,
   "id": "f121880d",
   "metadata": {
    "ExecuteTime": {
     "end_time": "2024-07-18T14:07:44.466952Z",
     "start_time": "2024-07-18T14:07:42.954070Z"
    }
   },
   "outputs": [],
   "source": [
    "#phik_matrix_train = train_df_del.drop(columns=['id'], axis=1).sample(50000).phik_matrix(\n",
    "    #interval_cols=['Age', 'Region_Code', 'Policy_Sales_Channel', 'Vintage'])"
   ]
  },
  {
   "cell_type": "code",
   "execution_count": 38,
   "id": "63674cf6",
   "metadata": {
    "ExecuteTime": {
     "end_time": "2024-07-26T14:24:37.890232Z",
     "start_time": "2024-07-26T14:24:37.887714Z"
    }
   },
   "outputs": [],
   "source": [
    "#plot_correlation_matrix(phik_matrix_train.values, x_labels=phik_matrix_train.columns, y_labels=phik_matrix_train.index,\n",
    "                        #vmin=0, vmax=1, color_map='coolwarm', title='Корреляция $\\phi_k$', fontsize_factor=1,\n",
    "                        #figsize=(7, 7))\n",
    "\n",
    "#plt.tight_layout()"
   ]
  },
  {
   "cell_type": "markdown",
   "id": "7da35752",
   "metadata": {},
   "source": [
    "Теперь проделаем посмотрим на взаимосвязь в тестовом датасете."
   ]
  },
  {
   "cell_type": "code",
   "execution_count": 49,
   "id": "fe04bd5e",
   "metadata": {
    "ExecuteTime": {
     "end_time": "2024-07-18T14:07:46.234085Z",
     "start_time": "2024-07-18T14:07:45.004365Z"
    }
   },
   "outputs": [],
   "source": [
    "# Расчитываем коэффициент корреляции Фи\n",
    "phik_matrix_test = test_df.drop(columns='id', axis=1).sample(50000).phik_matrix(\n",
    "    interval_cols=['Age', 'Region_Code', 'Annual_Premium', 'Policy_Sales_Channel', 'Vintage'])"
   ]
  },
  {
   "cell_type": "code",
   "execution_count": 50,
   "id": "b1cf53bc",
   "metadata": {
    "ExecuteTime": {
     "end_time": "2024-07-18T14:07:47.158204Z",
     "start_time": "2024-07-18T14:07:46.235089Z"
    }
   },
   "outputs": [
    {
     "data": {
      "image/png": "[encoded data removed]",
      "text/plain": [
       "<Figure size 700x700 with 2 Axes>"
      ]
     },
     "metadata": {},
     "output_type": "display_data"
    }
   ],
   "source": [
    "plot_correlation_matrix(phik_matrix_test.values, x_labels=phik_matrix_test.columns, y_labels=phik_matrix_test.index,\n",
    "                        vmin=0, vmax=1, color_map='coolwarm', title='Корреляция $\\phi_k$', fontsize_factor=1,\n",
    "                        figsize=(7, 7))\n",
    "\n",
    "plt.tight_layout()"
   ]
  },
  {
   "cell_type": "markdown",
   "id": "b255b2de",
   "metadata": {},
   "source": [
    "Результаты аналогичные, как и ожидалось."
   ]
  },
  {
   "cell_type": "code",
   "execution_count": 11,
   "id": "29203530",
   "metadata": {
    "ExecuteTime": {
     "end_time": "2024-07-25T19:18:36.882184Z",
     "start_time": "2024-07-25T19:18:36.781040Z"
    }
   },
   "outputs": [],
   "source": [
    "#test_df_del = test_df.drop(columns=['Previously_Insured', 'Driving_License', 'Annual_Premium'])"
   ]
  },
  {
   "cell_type": "code",
   "execution_count": 52,
   "id": "b5ee8a31",
   "metadata": {
    "ExecuteTime": {
     "end_time": "2024-07-18T14:07:48.242103Z",
     "start_time": "2024-07-18T14:07:47.428616Z"
    }
   },
   "outputs": [],
   "source": [
    "#phik_matrix_test = test_df_del.drop(columns=['id'], axis=1).sample(50000).phik_matrix(\n",
    "    #interval_cols=['Age', 'Region_Code', 'Policy_Sales_Channel', 'Vintage'])"
   ]
  },
  {
   "cell_type": "code",
   "execution_count": 37,
   "id": "96831123",
   "metadata": {
    "ExecuteTime": {
     "end_time": "2024-07-26T14:24:31.647019Z",
     "start_time": "2024-07-26T14:24:31.643790Z"
    }
   },
   "outputs": [],
   "source": [
    "#plot_correlation_matrix(phik_matrix_test.values, x_labels=phik_matrix_test.columns, y_labels=phik_matrix_test.index,\n",
    "                        #vmin=0, vmax=1, color_map='coolwarm', title='Корреляция $\\phi_k$', fontsize_factor=1,\n",
    "                        #figsize=(7, 7))\n",
    "\n",
    "#plt.tight_layout()"
   ]
  },
  {
   "cell_type": "markdown",
   "id": "cc858c04",
   "metadata": {},
   "source": [
    "# Feature Engineering"
   ]
  },
  {
   "cell_type": "markdown",
   "id": "06a5a1a5",
   "metadata": {},
   "source": [
    "Попробуем создать новые признаки. Но сначала заменим категориальные данные более удобным способом"
   ]
  },
  {
   "cell_type": "code",
   "execution_count": 9,
   "id": "5e6d3dee",
   "metadata": {
    "ExecuteTime": {
     "end_time": "2024-07-27T09:53:50.440162Z",
     "start_time": "2024-07-27T09:53:50.412416Z"
    }
   },
   "outputs": [],
   "source": [
    "train_df['Vehicle_Damage'] = train_df['Vehicle_Damage'].replace(\n",
    "    {'No':  0, 'Yes': 1})\n",
    "\n",
    "train_df['Gender'] = train_df['Gender'].replace(\n",
    "    {'Male': 0, 'Female': 1})\n",
    "\n",
    "train_df['Vehicle_Age'] = train_df['Vehicle_Age'].replace(\n",
    "    {'< 1 Year': 0, '1-2 Year': 1, '> 2 Years': 2})"
   ]
  },
  {
   "cell_type": "code",
   "execution_count": 10,
   "id": "e0ecbd71",
   "metadata": {
    "ExecuteTime": {
     "end_time": "2024-07-27T09:53:51.304781Z",
     "start_time": "2024-07-27T09:53:51.290245Z"
    }
   },
   "outputs": [],
   "source": [
    "test_df['Vehicle_Damage'] = test_df['Vehicle_Damage'].replace(\n",
    "    {'No':  0, 'Yes': 1})\n",
    "\n",
    "test_df['Gender'] = test_df['Gender'].replace({'Male': 0, 'Female': 1})\n",
    "\n",
    "test_df['Vehicle_Age'] = test_df['Vehicle_Age'].replace(\n",
    "    {'< 1 Year': 0, '1-2 Year': 1, '> 2 Years': 2})"
   ]
  },
  {
   "cell_type": "markdown",
   "id": "e520a539",
   "metadata": {},
   "source": [
    "Создадим столбец `Not_Insured_and_Damaged`, чтобы выделить клиентов без страховки и повреждений."
   ]
  },
  {
   "cell_type": "code",
   "execution_count": 11,
   "id": "f8574404",
   "metadata": {
    "ExecuteTime": {
     "end_time": "2024-07-27T09:53:52.616922Z",
     "start_time": "2024-07-27T09:53:52.504173Z"
    }
   },
   "outputs": [],
   "source": [
    "train_df['Not_Insured_and_Damaged'] = train_df['Vehicle_Damage'].astype(\n",
    "    'int8') * (1-train_df['Previously_Insured'])\n",
    "test_df['Not_Insured_and_Damaged'] = test_df['Vehicle_Damage'].astype(\n",
    "    'int8') * (1-test_df['Previously_Insured'])"
   ]
  },
  {
   "cell_type": "markdown",
   "id": "39d64e8c",
   "metadata": {},
   "source": [
    "Так как в корреляционном анализе была заметна мультиколлинеарность. Обратимся к столбцу `Previously_Insured` и на его основе создадим новые столбцы. Для этого мы переведем данный столбец в тип данных `str` и прибавим к нему другие столбцы при этом воспользуемся функцией `pd.factorize` для кодировки новых значений."
   ]
  },
  {
   "cell_type": "code",
   "execution_count": 12,
   "id": "1ec3bebe",
   "metadata": {
    "ExecuteTime": {
     "end_time": "2024-07-27T09:54:30.745937Z",
     "start_time": "2024-07-27T09:53:55.712151Z"
    }
   },
   "outputs": [],
   "source": [
    "train_df['Previously_Insured_Annual_Premium'] = pd.factorize(\n",
    "    (train_df['Previously_Insured'].astype('str') + train_df['Annual_Premium'].astype('str')).to_numpy())[0]\n",
    "\n",
    "train_df['Previously_Insured_Vehicle_Age'] = pd.factorize(\n",
    "    (train_df['Previously_Insured'].astype('str') + train_df['Vehicle_Age'].astype('str')).to_numpy())[0]\n",
    "\n",
    "train_df['Previously_Insured_Vehicle_Damage'] = pd.factorize(\n",
    "    (train_df['Previously_Insured'].astype('str') + train_df['Vehicle_Damage'].astype('str')).to_numpy())[0]\n",
    "\n",
    "train_df['Previously_Insured_Vintage'] = pd.factorize(\n",
    "    (train_df['Previously_Insured'].astype('str') + train_df['Vintage'].astype('str')).to_numpy())[0]"
   ]
  },
  {
   "cell_type": "markdown",
   "id": "ef98111c",
   "metadata": {},
   "source": [
    "Тоже самое делаем для тестового набора"
   ]
  },
  {
   "cell_type": "code",
   "execution_count": 13,
   "id": "e70fa49c",
   "metadata": {
    "ExecuteTime": {
     "end_time": "2024-07-27T09:54:56.038600Z",
     "start_time": "2024-07-27T09:54:33.173605Z"
    }
   },
   "outputs": [],
   "source": [
    "test_df['Previously_Insured_Annual_Premium'] = pd.factorize(\n",
    "    (test_df['Previously_Insured'].astype('str') + test_df['Annual_Premium'].astype('str')).to_numpy())[0]\n",
    "\n",
    "test_df['Previously_Insured_Vehicle_Age'] = pd.factorize(\n",
    "    (test_df['Previously_Insured'].astype('str') + test_df['Vehicle_Age'].astype('str')).to_numpy())[0]\n",
    "\n",
    "test_df['Previously_Insured_Vehicle_Damage'] = pd.factorize(\n",
    "    (test_df['Previously_Insured'].astype('str') + test_df['Vehicle_Damage'].astype('str')).to_numpy())[0]\n",
    "\n",
    "test_df['Previously_Insured_Vintage'] = pd.factorize(\n",
    "    (test_df['Previously_Insured'].astype('str') + test_df['Vintage'].astype('str')).to_numpy())[0]"
   ]
  },
  {
   "cell_type": "markdown",
   "id": "06e969dd",
   "metadata": {},
   "source": [
    "Изменим тип данных новых столбцов для эффективного управления памятью"
   ]
  },
  {
   "cell_type": "code",
   "execution_count": 14,
   "id": "f424bd1c",
   "metadata": {
    "ExecuteTime": {
     "end_time": "2024-07-27T09:55:01.510109Z",
     "start_time": "2024-07-27T09:55:01.421781Z"
    }
   },
   "outputs": [],
   "source": [
    "train_df['Previously_Insured_Annual_Premium'] = train_df['Previously_Insured_Annual_Premium'].astype(\n",
    "    'int32')\n",
    "train_df['Previously_Insured_Vehicle_Age'] = train_df['Previously_Insured_Vehicle_Age'].astype(\n",
    "    'int8')\n",
    "train_df['Previously_Insured_Vehicle_Damage'] = train_df['Previously_Insured_Vehicle_Damage'].astype(\n",
    "    'int8')\n",
    "train_df['Previously_Insured_Vintage'] = train_df['Previously_Insured_Vintage'].astype(\n",
    "    'int32')"
   ]
  },
  {
   "cell_type": "code",
   "execution_count": 15,
   "id": "414a45c5",
   "metadata": {
    "ExecuteTime": {
     "end_time": "2024-07-27T09:55:02.852353Z",
     "start_time": "2024-07-27T09:55:02.793498Z"
    }
   },
   "outputs": [],
   "source": [
    "test_df['Previously_Insured_Annual_Premium'] = test_df['Previously_Insured_Annual_Premium'].astype(\n",
    "    'int32')\n",
    "test_df['Previously_Insured_Vehicle_Age'] = test_df['Previously_Insured_Vehicle_Age'].astype(\n",
    "    'int8')\n",
    "test_df['Previously_Insured_Vehicle_Damage'] = test_df['Previously_Insured_Vehicle_Damage'].astype(\n",
    "    'int8')\n",
    "test_df['Previously_Insured_Vintage'] = test_df['Previously_Insured_Vintage'].astype(\n",
    "    'int32')"
   ]
  },
  {
   "cell_type": "markdown",
   "id": "cbbda4b7",
   "metadata": {},
   "source": [
    "Сделаем стндартизацию для числовых признаков. Для этого воспользуемся `StandardScaler()`"
   ]
  },
  {
   "cell_type": "code",
   "execution_count": 35,
   "id": "d4579759",
   "metadata": {
    "ExecuteTime": {
     "end_time": "2024-07-26T16:55:57.277875Z",
     "start_time": "2024-07-26T16:55:56.982444Z"
    }
   },
   "outputs": [],
   "source": [
    "train_copy = train_df.copy()\n",
    "test_copy = test_df.copy()"
   ]
  },
  {
   "cell_type": "code",
   "execution_count": 16,
   "id": "52af83f4",
   "metadata": {
    "ExecuteTime": {
     "end_time": "2024-07-27T09:55:05.925162Z",
     "start_time": "2024-07-27T09:55:05.921656Z"
    }
   },
   "outputs": [],
   "source": [
    "# Создаём список с количественными признаками\n",
    "num_columns = ['Age', 'Region_Code', 'Policy_Sales_Channel', 'Vintage',\n",
    "               'Annual_Premium', 'Previously_Insured_Annual_Premium', 'Previously_Insured_Vintage']"
   ]
  },
  {
   "cell_type": "code",
   "execution_count": 17,
   "id": "1a00bb59",
   "metadata": {
    "ExecuteTime": {
     "end_time": "2024-07-27T09:55:10.281573Z",
     "start_time": "2024-07-27T09:55:08.024322Z"
    }
   },
   "outputs": [],
   "source": [
    "scaler = StandardScaler()\n",
    "\n",
    "train_df[num_columns] = scaler.fit_transform(train_df[num_columns])\n",
    "test_df[num_columns] = scaler.transform(test_df[num_columns])"
   ]
  },
  {
   "cell_type": "markdown",
   "id": "954f3d8f",
   "metadata": {},
   "source": [
    "После стандартизации также изменит тип данных"
   ]
  },
  {
   "cell_type": "code",
   "execution_count": 18,
   "id": "ddc15880",
   "metadata": {
    "ExecuteTime": {
     "end_time": "2024-07-27T09:55:12.456482Z",
     "start_time": "2024-07-27T09:55:12.277757Z"
    }
   },
   "outputs": [],
   "source": [
    "train_df['Age'] = train_df['Age'].astype('float32')\n",
    "train_df['Region_Code'] = train_df['Region_Code'].astype('float32')\n",
    "train_df['Annual_Premium'] = train_df['Annual_Premium'].astype('float32')\n",
    "train_df['Policy_Sales_Channel'] = train_df['Policy_Sales_Channel'].astype(\n",
    "    'float32')\n",
    "train_df['Vintage'] = train_df['Vintage'].astype('float32')\n",
    "train_df['Previously_Insured_Annual_Premium'] = train_df['Previously_Insured_Annual_Premium'].astype(\n",
    "    'float32')\n",
    "train_df['Previously_Insured_Vintage'] = train_df['Previously_Insured_Vintage'].astype(\n",
    "    'float32')"
   ]
  },
  {
   "cell_type": "code",
   "execution_count": 19,
   "id": "2b481e5c",
   "metadata": {
    "ExecuteTime": {
     "end_time": "2024-07-27T09:55:13.679413Z",
     "start_time": "2024-07-27T09:55:13.560127Z"
    }
   },
   "outputs": [],
   "source": [
    "test_df['Age'] = test_df['Age'].astype('float32')\n",
    "test_df['Region_Code'] = test_df['Region_Code'].astype('float32')\n",
    "test_df['Annual_Premium'] = test_df['Annual_Premium'].astype('float32')\n",
    "test_df['Policy_Sales_Channel'] = test_df['Policy_Sales_Channel'].astype(\n",
    "    'float32')\n",
    "test_df['Vintage'] = test_df['Vintage'].astype('float32')\n",
    "test_df['Previously_Insured_Annual_Premium'] = test_df['Previously_Insured_Annual_Premium'].astype(\n",
    "    'float32')\n",
    "test_df['Previously_Insured_Vintage'] = test_df['Previously_Insured_Vintage'].astype(\n",
    "    'float32')"
   ]
  },
  {
   "cell_type": "markdown",
   "id": "a17090fe",
   "metadata": {},
   "source": [
    "Выведим первые 5 строк финального датафрейма и информацию о нем"
   ]
  },
  {
   "cell_type": "code",
   "execution_count": 23,
   "id": "b73eca8b",
   "metadata": {
    "ExecuteTime": {
     "end_time": "2024-07-26T11:21:34.638761Z",
     "start_time": "2024-07-26T11:21:34.626072Z"
    }
   },
   "outputs": [
    {
     "data": {
      "text/html": [
       "<div>\n",
       "<style scoped>\n",
       "    .dataframe tbody tr th:only-of-type {\n",
       "        vertical-align: middle;\n",
       "    }\n",
       "\n",
       "    .dataframe tbody tr th {\n",
       "        vertical-align: top;\n",
       "    }\n",
       "\n",
       "    .dataframe thead th {\n",
       "        text-align: right;\n",
       "    }\n",
       "</style>\n",
       "<table border=\"1\" class=\"dataframe\">\n",
       "  <thead>\n",
       "    <tr style=\"text-align: right;\">\n",
       "      <th></th>\n",
       "      <th>id</th>\n",
       "      <th>Gender</th>\n",
       "      <th>Age</th>\n",
       "      <th>Driving_License</th>\n",
       "      <th>Region_Code</th>\n",
       "      <th>Previously_Insured</th>\n",
       "      <th>Vehicle_Age</th>\n",
       "      <th>Vehicle_Damage</th>\n",
       "      <th>Annual_Premium</th>\n",
       "      <th>Policy_Sales_Channel</th>\n",
       "      <th>Vintage</th>\n",
       "      <th>Response</th>\n",
       "      <th>Not_Insured_and_Damaged</th>\n",
       "      <th>Previously_Insured_Annual_Premium</th>\n",
       "      <th>Previously_Insured_Vehicle_Age</th>\n",
       "      <th>Previously_Insured_Vehicle_Damage</th>\n",
       "      <th>Previously_Insured_Vintage</th>\n",
       "    </tr>\n",
       "  </thead>\n",
       "  <tbody>\n",
       "    <tr>\n",
       "      <th>0</th>\n",
       "      <td>0</td>\n",
       "      <td>0</td>\n",
       "      <td>-1.159410</td>\n",
       "      <td>1</td>\n",
       "      <td>0.660528</td>\n",
       "      <td>0</td>\n",
       "      <td>1</td>\n",
       "      <td>1</td>\n",
       "      <td>2.105145</td>\n",
       "      <td>0.214202</td>\n",
       "      <td>0.288852</td>\n",
       "      <td>0</td>\n",
       "      <td>1</td>\n",
       "      <td>-0.929348</td>\n",
       "      <td>0</td>\n",
       "      <td>0</td>\n",
       "      <td>-1.624320</td>\n",
       "    </tr>\n",
       "    <tr>\n",
       "      <th>1</th>\n",
       "      <td>1</td>\n",
       "      <td>0</td>\n",
       "      <td>0.307897</td>\n",
       "      <td>1</td>\n",
       "      <td>0.121718</td>\n",
       "      <td>0</td>\n",
       "      <td>2</td>\n",
       "      <td>1</td>\n",
       "      <td>1.728962</td>\n",
       "      <td>-1.599414</td>\n",
       "      <td>1.551675</td>\n",
       "      <td>1</td>\n",
       "      <td>1</td>\n",
       "      <td>-0.929292</td>\n",
       "      <td>1</td>\n",
       "      <td>0</td>\n",
       "      <td>-1.618162</td>\n",
       "    </tr>\n",
       "    <tr>\n",
       "      <th>2</th>\n",
       "      <td>2</td>\n",
       "      <td>1</td>\n",
       "      <td>-0.892627</td>\n",
       "      <td>1</td>\n",
       "      <td>-0.955902</td>\n",
       "      <td>1</td>\n",
       "      <td>0</td>\n",
       "      <td>0</td>\n",
       "      <td>0.460756</td>\n",
       "      <td>0.732378</td>\n",
       "      <td>1.126567</td>\n",
       "      <td>0</td>\n",
       "      <td>0</td>\n",
       "      <td>-0.929236</td>\n",
       "      <td>2</td>\n",
       "      <td>1</td>\n",
       "      <td>-1.612004</td>\n",
       "    </tr>\n",
       "    <tr>\n",
       "      <th>3</th>\n",
       "      <td>3</td>\n",
       "      <td>1</td>\n",
       "      <td>-0.225669</td>\n",
       "      <td>1</td>\n",
       "      <td>-1.956550</td>\n",
       "      <td>0</td>\n",
       "      <td>1</td>\n",
       "      <td>1</td>\n",
       "      <td>-1.691389</td>\n",
       "      <td>0.806403</td>\n",
       "      <td>-1.099003</td>\n",
       "      <td>0</td>\n",
       "      <td>1</td>\n",
       "      <td>-0.929181</td>\n",
       "      <td>0</td>\n",
       "      <td>0</td>\n",
       "      <td>-1.605846</td>\n",
       "    </tr>\n",
       "    <tr>\n",
       "      <th>4</th>\n",
       "      <td>4</td>\n",
       "      <td>1</td>\n",
       "      <td>-0.158974</td>\n",
       "      <td>1</td>\n",
       "      <td>-0.878929</td>\n",
       "      <td>1</td>\n",
       "      <td>1</td>\n",
       "      <td>0</td>\n",
       "      <td>0.090529</td>\n",
       "      <td>0.732378</td>\n",
       "      <td>1.626694</td>\n",
       "      <td>0</td>\n",
       "      <td>0</td>\n",
       "      <td>-0.929125</td>\n",
       "      <td>3</td>\n",
       "      <td>1</td>\n",
       "      <td>-1.599688</td>\n",
       "    </tr>\n",
       "  </tbody>\n",
       "</table>\n",
       "</div>"
      ],
      "text/plain": [
       "   id Gender       Age  Driving_License  Region_Code  Previously_Insured  \\\n",
       "0   0      0 -1.159410                1     0.660528                   0   \n",
       "1   1      0  0.307897                1     0.121718                   0   \n",
       "2   2      1 -0.892627                1    -0.955902                   1   \n",
       "3   3      1 -0.225669                1    -1.956550                   0   \n",
       "4   4      1 -0.158974                1    -0.878929                   1   \n",
       "\n",
       "  Vehicle_Age Vehicle_Damage  Annual_Premium  Policy_Sales_Channel   Vintage  \\\n",
       "0           1              1        2.105145              0.214202  0.288852   \n",
       "1           2              1        1.728962             -1.599414  1.551675   \n",
       "2           0              0        0.460756              0.732378  1.126567   \n",
       "3           1              1       -1.691389              0.806403 -1.099003   \n",
       "4           1              0        0.090529              0.732378  1.626694   \n",
       "\n",
       "   Response  Not_Insured_and_Damaged  Previously_Insured_Annual_Premium  \\\n",
       "0         0                        1                          -0.929348   \n",
       "1         1                        1                          -0.929292   \n",
       "2         0                        0                          -0.929236   \n",
       "3         0                        1                          -0.929181   \n",
       "4         0                        0                          -0.929125   \n",
       "\n",
       "   Previously_Insured_Vehicle_Age  Previously_Insured_Vehicle_Damage  \\\n",
       "0                               0                                  0   \n",
       "1                               1                                  0   \n",
       "2                               2                                  1   \n",
       "3                               0                                  0   \n",
       "4                               3                                  1   \n",
       "\n",
       "   Previously_Insured_Vintage  \n",
       "0                   -1.624320  \n",
       "1                   -1.618162  \n",
       "2                   -1.612004  \n",
       "3                   -1.605846  \n",
       "4                   -1.599688  "
      ]
     },
     "execution_count": 23,
     "metadata": {},
     "output_type": "execute_result"
    }
   ],
   "source": [
    "train_df.head()"
   ]
  },
  {
   "cell_type": "code",
   "execution_count": 24,
   "id": "ce9b63f9",
   "metadata": {
    "ExecuteTime": {
     "end_time": "2024-07-26T11:21:38.402059Z",
     "start_time": "2024-07-26T11:21:38.394441Z"
    },
    "scrolled": false
   },
   "outputs": [
    {
     "name": "stdout",
     "output_type": "stream",
     "text": [
      "<class 'pandas.core.frame.DataFrame'>\n",
      "RangeIndex: 11504798 entries, 0 to 11504797\n",
      "Data columns (total 17 columns):\n",
      " #   Column                             Dtype   \n",
      "---  ------                             -----   \n",
      " 0   id                                 int64   \n",
      " 1   Gender                             category\n",
      " 2   Age                                float32 \n",
      " 3   Driving_License                    int8    \n",
      " 4   Region_Code                        float32 \n",
      " 5   Previously_Insured                 int8    \n",
      " 6   Vehicle_Age                        category\n",
      " 7   Vehicle_Damage                     category\n",
      " 8   Annual_Premium                     float32 \n",
      " 9   Policy_Sales_Channel               float32 \n",
      " 10  Vintage                            float32 \n",
      " 11  Response                           int8    \n",
      " 12  Not_Insured_and_Damaged            int8    \n",
      " 13  Previously_Insured_Annual_Premium  float32 \n",
      " 14  Previously_Insured_Vehicle_Age     int8    \n",
      " 15  Previously_Insured_Vehicle_Damage  int8    \n",
      " 16  Previously_Insured_Vintage         float32 \n",
      "dtypes: category(3), float32(7), int64(1), int8(6)\n",
      "memory usage: 493.7 MB\n"
     ]
    }
   ],
   "source": [
    "train_df.info()"
   ]
  },
  {
   "cell_type": "markdown",
   "id": "20c42ae2",
   "metadata": {},
   "source": [
    "Теперь можно приступать к обучению модели."
   ]
  },
  {
   "cell_type": "markdown",
   "id": "60221689",
   "metadata": {},
   "source": [
    "# Обучение моделей"
   ]
  },
  {
   "cell_type": "markdown",
   "id": "7c26d98a",
   "metadata": {},
   "source": [
    "Приступим к обучению модели. Перед нами стоит задача бинарной классификации и нам необходимо предсказать наш целевой признак `Response`.\n",
    "\n",
    "Будем использовать `LGBMClassifier` совместно с `RandomizdeSearchCV` для подбора гиперпараметров.\n",
    "\n",
    "Оценивать модель будем по метрике `ROC_AUC`. Также после обучения модели, проверим ее на адекватность при помощи `DummyClassifier`.\n",
    "\n",
    "Данные уже подготовлены поэтому можем приступать к обучению. Подготовим тренировочную выборку.\n",
    "\n",
    "*В первых попытках использовалась `LogisticRegression` совместно с `OptunaSearchCV` для подбора параметров. Подготовка признаков для обучения проводилась в пайплайне.*"
   ]
  },
  {
   "cell_type": "code",
   "execution_count": 20,
   "id": "be296db2",
   "metadata": {
    "ExecuteTime": {
     "end_time": "2024-07-27T09:55:19.206846Z",
     "start_time": "2024-07-27T09:55:18.532282Z"
    }
   },
   "outputs": [],
   "source": [
    "X = train_df.drop(columns=['id', 'Response'], axis=1)\n",
    "y = train_df['Response']\n",
    "\n",
    "X_test = test_df.drop(columns='id')"
   ]
  },
  {
   "cell_type": "code",
   "execution_count": 26,
   "id": "b2596a2d",
   "metadata": {
    "ExecuteTime": {
     "end_time": "2024-07-26T11:22:30.691712Z",
     "start_time": "2024-07-26T11:22:24.259943Z"
    }
   },
   "outputs": [],
   "source": [
    "# Разделяем данные на тренировочные и валидационные\n",
    "X_train, X_valid, y_train, y_valid = train_test_split(\n",
    "    X,\n",
    "    y,\n",
    "    test_size=TEST_SIZE,\n",
    "    random_state=RANDOM_STATE,\n",
    "    stratify=y\n",
    ")"
   ]
  },
  {
   "cell_type": "markdown",
   "id": "7e1766bf",
   "metadata": {},
   "source": [
    "Посмотрим на размеры выборок, чтобы убедиться, что все разбиение прошло правильно"
   ]
  },
  {
   "cell_type": "code",
   "execution_count": 27,
   "id": "57e82f4f",
   "metadata": {
    "ExecuteTime": {
     "end_time": "2024-07-26T11:22:34.794090Z",
     "start_time": "2024-07-26T11:22:34.789674Z"
    }
   },
   "outputs": [
    {
     "data": {
      "text/plain": [
       "((8628598, 15), (8628598,))"
      ]
     },
     "execution_count": 27,
     "metadata": {},
     "output_type": "execute_result"
    }
   ],
   "source": [
    "X_train.shape, y_train.shape"
   ]
  },
  {
   "cell_type": "code",
   "execution_count": 28,
   "id": "f316e43f",
   "metadata": {
    "ExecuteTime": {
     "end_time": "2024-07-26T11:22:37.189643Z",
     "start_time": "2024-07-26T11:22:37.185137Z"
    }
   },
   "outputs": [
    {
     "data": {
      "text/plain": [
       "((2876200, 15), (2876200,))"
      ]
     },
     "execution_count": 28,
     "metadata": {},
     "output_type": "execute_result"
    }
   ],
   "source": [
    "X_valid.shape, y_valid.shape"
   ]
  },
  {
   "cell_type": "markdown",
   "id": "59e2aece",
   "metadata": {},
   "source": [
    "## Логистическая регрессия "
   ]
  },
  {
   "cell_type": "code",
   "execution_count": 60,
   "id": "e94e5644",
   "metadata": {
    "ExecuteTime": {
     "end_time": "2024-07-25T18:36:40.932479Z",
     "start_time": "2024-07-25T18:36:40.915135Z"
    }
   },
   "outputs": [],
   "source": [
    "# Инициализируем модель логистической регрессии\n",
    "#model_lr = LogisticRegression(random_state=RANDOM_STATE)"
   ]
  },
  {
   "cell_type": "code",
   "execution_count": 61,
   "id": "848eaca5",
   "metadata": {
    "ExecuteTime": {
     "end_time": "2024-07-25T18:36:42.043374Z",
     "start_time": "2024-07-25T18:36:42.019226Z"
    }
   },
   "outputs": [],
   "source": [
    "# Создаём словарь со значениями гиперпараметров для перебора в optuna\n",
    "#parameters_opt_lr = {\n",
    "    #'penalty': distributions.CategoricalDistribution(['l1', 'l2']),\n",
    "    #'C': distributions.CategoricalDistribution(choices=(0.01, 0.1, 1, 10, 100, 1000)),\n",
    "    #'solver': distributions.CategoricalDistribution(['liblinear', 'saga'])}"
   ]
  },
  {
   "cell_type": "code",
   "execution_count": 36,
   "id": "ab30c99d",
   "metadata": {
    "ExecuteTime": {
     "end_time": "2024-07-26T14:24:20.848553Z",
     "start_time": "2024-07-26T14:24:20.845793Z"
    },
    "scrolled": true
   },
   "outputs": [],
   "source": [
    "# Инициализируем OptunaSearchCV\n",
    "#optuna_lr = OptunaSearchCV(\n",
    "    #model_lr,\n",
    "    #parameters_opt_lr,\n",
    "    #cv=5,\n",
    "    #scoring='roc_auc',\n",
    "    #n_jobs=-1,\n",
    "    #random_state=RANDOM_STATE,\n",
    "    #n_trials=10,\n",
    "    #refit=True)\n",
    "\n",
    "#optuna_lr.fit(X_train_p, y_train_p)\n",
    "\n",
    "#print('Лучшая модель и её параметры:\\n\\n', optuna_lr.best_estimator_)\n",
    "#print(f'Метрика ROC-AUC на кросс-валидации: {optuna_lr.best_score_:.2f}')\n",
    "#print(\n",
    "    #f'Отклонение метрики на кросс-валидации: {pd.DataFrame(optuna_lr.cv_results_)[\"std_test_score\"].mean():.2%}')"
   ]
  },
  {
   "cell_type": "markdown",
   "id": "de695285",
   "metadata": {},
   "source": [
    "## LGBM"
   ]
  },
  {
   "cell_type": "markdown",
   "id": "ec138dc4",
   "metadata": {},
   "source": [
    "Воспользуемся градиентным бустингом `LGBMRegressor` с фиксированными параметрами `lambda_l1` = 3 и `learning_rate` = 0.075. Параметры этой модели будем подбирать с помощью `RandomizedSearchCV()`:\n",
    "\n",
    "- `num_leaves`\n",
    "- `n_estimators`\n",
    "- `min_child_samples`\n",
    "- `max_depth`"
   ]
  },
  {
   "cell_type": "code",
   "execution_count": 21,
   "id": "7b0d9878",
   "metadata": {
    "ExecuteTime": {
     "end_time": "2024-07-27T09:55:25.915343Z",
     "start_time": "2024-07-27T09:55:25.912002Z"
    }
   },
   "outputs": [],
   "source": [
    "# Инициализируем модель\n",
    "lgbm = LGBMClassifier(\n",
    "    random_state=RANDOM_STATE, \n",
    "    n_jobs=-1, \n",
    "    lambda_l1=3, \n",
    "    learning_rate=0.075, \n",
    "    objective='binary',\n",
    "    verbosity=-1)"
   ]
  },
  {
   "cell_type": "code",
   "execution_count": 22,
   "id": "cd3f0eab",
   "metadata": {
    "ExecuteTime": {
     "end_time": "2024-07-27T09:55:28.761435Z",
     "start_time": "2024-07-27T09:55:28.757976Z"
    }
   },
   "outputs": [],
   "source": [
    "# Создаём словарь со значениями гиперпараметров для перебора\n",
    "parameters_lgbm = {\n",
    "    'num_leaves': [50, 100, 130],\n",
    "    'n_estimators': [1000, 1500, 2000],\n",
    "    'max_depth': range(2, 10),\n",
    "    'min_child_samples': [30, 50]\n",
    "}"
   ]
  },
  {
   "cell_type": "code",
   "execution_count": 23,
   "id": "29e00b2b",
   "metadata": {
    "ExecuteTime": {
     "end_time": "2024-07-27T09:55:33.948105Z",
     "start_time": "2024-07-27T09:55:33.944593Z"
    }
   },
   "outputs": [],
   "source": [
    "# Инициализируем класс для случайного поиска\n",
    "randomized_search_lgbm = RandomizedSearchCV(\n",
    "    lgbm,\n",
    "    parameters_lgbm,\n",
    "    cv=5,\n",
    "    scoring='roc_auc',\n",
    "    n_jobs=-1,\n",
    "    random_state=RANDOM_STATE\n",
    ")"
   ]
  },
  {
   "cell_type": "code",
   "execution_count": 24,
   "id": "1d235745",
   "metadata": {
    "ExecuteTime": {
     "end_time": "2024-07-27T13:46:17.694808Z",
     "start_time": "2024-07-27T09:55:46.933596Z"
    },
    "scrolled": true
   },
   "outputs": [
    {
     "data": {
      "text/html": [
       "<style>#sk-container-id-1 {color: black;}#sk-container-id-1 pre{padding: 0;}#sk-container-id-1 div.sk-toggleable {background-color: white;}#sk-container-id-1 label.sk-toggleable__label {cursor: pointer;display: block;width: 100%;margin-bottom: 0;padding: 0.3em;box-sizing: border-box;text-align: center;}#sk-container-id-1 label.sk-toggleable__label-arrow:before {content: \"▸\";float: left;margin-right: 0.25em;color: #696969;}#sk-container-id-1 label.sk-toggleable__label-arrow:hover:before {color: black;}#sk-container-id-1 div.sk-estimator:hover label.sk-toggleable__label-arrow:before {color: black;}#sk-container-id-1 div.sk-toggleable__content {max-height: 0;max-width: 0;overflow: hidden;text-align: left;background-color: #f0f8ff;}#sk-container-id-1 div.sk-toggleable__content pre {margin: 0.2em;color: black;border-radius: 0.25em;background-color: #f0f8ff;}#sk-container-id-1 input.sk-toggleable__control:checked~div.sk-toggleable__content {max-height: 200px;max-width: 100%;overflow: auto;}#sk-container-id-1 input.sk-toggleable__control:checked~label.sk-toggleable__label-arrow:before {content: \"▾\";}#sk-container-id-1 div.sk-estimator input.sk-toggleable__control:checked~label.sk-toggleable__label {background-color: #d4ebff;}#sk-container-id-1 div.sk-label input.sk-toggleable__control:checked~label.sk-toggleable__label {background-color: #d4ebff;}#sk-container-id-1 input.sk-hidden--visually {border: 0;clip: rect(1px 1px 1px 1px);clip: rect(1px, 1px, 1px, 1px);height: 1px;margin: -1px;overflow: hidden;padding: 0;position: absolute;width: 1px;}#sk-container-id-1 div.sk-estimator {font-family: monospace;background-color: #f0f8ff;border: 1px dotted black;border-radius: 0.25em;box-sizing: border-box;margin-bottom: 0.5em;}#sk-container-id-1 div.sk-estimator:hover {background-color: #d4ebff;}#sk-container-id-1 div.sk-parallel-item::after {content: \"\";width: 100%;border-bottom: 1px solid gray;flex-grow: 1;}#sk-container-id-1 div.sk-label:hover label.sk-toggleable__label {background-color: #d4ebff;}#sk-container-id-1 div.sk-serial::before {content: \"\";position: absolute;border-left: 1px solid gray;box-sizing: border-box;top: 0;bottom: 0;left: 50%;z-index: 0;}#sk-container-id-1 div.sk-serial {display: flex;flex-direction: column;align-items: center;background-color: white;padding-right: 0.2em;padding-left: 0.2em;position: relative;}#sk-container-id-1 div.sk-item {position: relative;z-index: 1;}#sk-container-id-1 div.sk-parallel {display: flex;align-items: stretch;justify-content: center;background-color: white;position: relative;}#sk-container-id-1 div.sk-item::before, #sk-container-id-1 div.sk-parallel-item::before {content: \"\";position: absolute;border-left: 1px solid gray;box-sizing: border-box;top: 0;bottom: 0;left: 50%;z-index: -1;}#sk-container-id-1 div.sk-parallel-item {display: flex;flex-direction: column;z-index: 1;position: relative;background-color: white;}#sk-container-id-1 div.sk-parallel-item:first-child::after {align-self: flex-end;width: 50%;}#sk-container-id-1 div.sk-parallel-item:last-child::after {align-self: flex-start;width: 50%;}#sk-container-id-1 div.sk-parallel-item:only-child::after {width: 0;}#sk-container-id-1 div.sk-dashed-wrapped {border: 1px dashed gray;margin: 0 0.4em 0.5em 0.4em;box-sizing: border-box;padding-bottom: 0.4em;background-color: white;}#sk-container-id-1 div.sk-label label {font-family: monospace;font-weight: bold;display: inline-block;line-height: 1.2em;}#sk-container-id-1 div.sk-label-container {text-align: center;}#sk-container-id-1 div.sk-container {/* jupyter's `normalize.less` sets `[hidden] { display: none; }` but bootstrap.min.css set `[hidden] { display: none !important; }` so we also need the `!important` here to be able to override the default hidden behavior on the sphinx rendered scikit-learn.org. See: https://github.com/scikit-learn/scikit-learn/issues/21755 */display: inline-block !important;position: relative;}#sk-container-id-1 div.sk-text-repr-fallback {display: none;}</style><div id=\"sk-container-id-1\" class=\"sk-top-container\"><div class=\"sk-text-repr-fallback\"><pre>RandomizedSearchCV(cv=5,\n",
       "                   estimator=LGBMClassifier(lambda_l1=3, learning_rate=0.075,\n",
       "                                            n_jobs=-1, objective=&#x27;binary&#x27;,\n",
       "                                            random_state=42, verbosity=-1),\n",
       "                   n_jobs=-1,\n",
       "                   param_distributions={&#x27;max_depth&#x27;: range(2, 10),\n",
       "                                        &#x27;min_child_samples&#x27;: [30, 50],\n",
       "                                        &#x27;n_estimators&#x27;: [1000, 1500, 2000],\n",
       "                                        &#x27;num_leaves&#x27;: [50, 100, 130]},\n",
       "                   random_state=42, scoring=&#x27;roc_auc&#x27;)</pre><b>In a Jupyter environment, please rerun this cell to show the HTML representation or trust the notebook. <br />On GitHub, the HTML representation is unable to render, please try loading this page with nbviewer.org.</b></div><div class=\"sk-container\" hidden><div class=\"sk-item sk-dashed-wrapped\"><div class=\"sk-label-container\"><div class=\"sk-label sk-toggleable\"><input class=\"sk-toggleable__control sk-hidden--visually\" id=\"sk-estimator-id-1\" type=\"checkbox\" ><label for=\"sk-estimator-id-1\" class=\"sk-toggleable__label sk-toggleable__label-arrow\">RandomizedSearchCV</label><div class=\"sk-toggleable__content\"><pre>RandomizedSearchCV(cv=5,\n",
       "                   estimator=LGBMClassifier(lambda_l1=3, learning_rate=0.075,\n",
       "                                            n_jobs=-1, objective=&#x27;binary&#x27;,\n",
       "                                            random_state=42, verbosity=-1),\n",
       "                   n_jobs=-1,\n",
       "                   param_distributions={&#x27;max_depth&#x27;: range(2, 10),\n",
       "                                        &#x27;min_child_samples&#x27;: [30, 50],\n",
       "                                        &#x27;n_estimators&#x27;: [1000, 1500, 2000],\n",
       "                                        &#x27;num_leaves&#x27;: [50, 100, 130]},\n",
       "                   random_state=42, scoring=&#x27;roc_auc&#x27;)</pre></div></div></div><div class=\"sk-parallel\"><div class=\"sk-parallel-item\"><div class=\"sk-item\"><div class=\"sk-label-container\"><div class=\"sk-label sk-toggleable\"><input class=\"sk-toggleable__control sk-hidden--visually\" id=\"sk-estimator-id-2\" type=\"checkbox\" ><label for=\"sk-estimator-id-2\" class=\"sk-toggleable__label sk-toggleable__label-arrow\">estimator: LGBMClassifier</label><div class=\"sk-toggleable__content\"><pre>LGBMClassifier(lambda_l1=3, learning_rate=0.075, n_jobs=-1, objective=&#x27;binary&#x27;,\n",
       "               random_state=42, verbosity=-1)</pre></div></div></div><div class=\"sk-serial\"><div class=\"sk-item\"><div class=\"sk-estimator sk-toggleable\"><input class=\"sk-toggleable__control sk-hidden--visually\" id=\"sk-estimator-id-3\" type=\"checkbox\" ><label for=\"sk-estimator-id-3\" class=\"sk-toggleable__label sk-toggleable__label-arrow\">LGBMClassifier</label><div class=\"sk-toggleable__content\"><pre>LGBMClassifier(lambda_l1=3, learning_rate=0.075, n_jobs=-1, objective=&#x27;binary&#x27;,\n",
       "               random_state=42, verbosity=-1)</pre></div></div></div></div></div></div></div></div></div></div>"
      ],
      "text/plain": [
       "RandomizedSearchCV(cv=5,\n",
       "                   estimator=LGBMClassifier(lambda_l1=3, learning_rate=0.075,\n",
       "                                            n_jobs=-1, objective='binary',\n",
       "                                            random_state=42, verbosity=-1),\n",
       "                   n_jobs=-1,\n",
       "                   param_distributions={'max_depth': range(2, 10),\n",
       "                                        'min_child_samples': [30, 50],\n",
       "                                        'n_estimators': [1000, 1500, 2000],\n",
       "                                        'num_leaves': [50, 100, 130]},\n",
       "                   random_state=42, scoring='roc_auc')"
      ]
     },
     "execution_count": 24,
     "metadata": {},
     "output_type": "execute_result"
    }
   ],
   "source": [
    "randomized_search_lgbm.fit(X, y)"
   ]
  },
  {
   "cell_type": "markdown",
   "id": "a8a8f9ee",
   "metadata": {},
   "source": [
    "3ч 50мин 31сек"
   ]
  },
  {
   "cell_type": "code",
   "execution_count": 25,
   "id": "5f433e94",
   "metadata": {
    "ExecuteTime": {
     "end_time": "2024-07-27T13:46:48.455065Z",
     "start_time": "2024-07-27T13:46:48.440292Z"
    },
    "scrolled": true
   },
   "outputs": [
    {
     "name": "stdout",
     "output_type": "stream",
     "text": [
      "Лучшая модель и её параметры:\n",
      "\n",
      " LGBMClassifier(lambda_l1=3, learning_rate=0.075, max_depth=7,\n",
      "               min_child_samples=30, n_estimators=2000, n_jobs=-1,\n",
      "               num_leaves=100, objective='binary', random_state=42,\n",
      "               verbosity=-1)\n",
      "Метрика ROC-AUC на кросс-валидации: 0.89\n",
      "Отклонение метрики на кросс-валидации: 0.00\n"
     ]
    }
   ],
   "source": [
    "print('Лучшая модель и её параметры:\\n\\n',\n",
    "      randomized_search_lgbm.best_estimator_)\n",
    "\n",
    "print(f'Метрика ROC-AUC на кросс-валидации: \\\n",
    "{randomized_search_lgbm.best_score_:.2f}')\n",
    "\n",
    "print(f'Отклонение метрики на кросс-валидации: \\\n",
    "{pd.DataFrame(randomized_search_lgbm.cv_results_)[\"std_test_score\"].mean():.2f}')"
   ]
  },
  {
   "cell_type": "code",
   "execution_count": 40,
   "id": "30603681",
   "metadata": {
    "ExecuteTime": {
     "end_time": "2024-07-26T14:30:47.159700Z",
     "start_time": "2024-07-26T14:29:25.601035Z"
    }
   },
   "outputs": [
    {
     "name": "stdout",
     "output_type": "stream",
     "text": [
      "[LightGBM] [Warning] lambda_l1 is set=3, reg_alpha=0.0 will be ignored. Current value: lambda_l1=3\n",
      "Метрика ROC-AUC на валидационной выборке: 0.89\n"
     ]
    }
   ],
   "source": [
    "y_pred_val = randomized_search_lgbm.predict_proba(X_valid)\n",
    "\n",
    "print(\n",
    "    f'Метрика ROC-AUC на валидационной выборке: {roc_auc_score(y_valid, y_pred_val[:,1]):.2f}')"
   ]
  },
  {
   "cell_type": "code",
   "execution_count": 41,
   "id": "72e8866a",
   "metadata": {
    "ExecuteTime": {
     "end_time": "2024-07-26T14:32:12.106525Z",
     "start_time": "2024-07-26T14:32:11.794369Z"
    }
   },
   "outputs": [
    {
     "data": {
      "text/plain": [
       "5653"
      ]
     },
     "execution_count": 41,
     "metadata": {},
     "output_type": "execute_result"
    }
   ],
   "source": [
    "del X_train, y_train\n",
    "del X_valid, y_valid\n",
    "del X, y\n",
    "del train_df, test_df\n",
    "gc.collect()"
   ]
  },
  {
   "cell_type": "markdown",
   "id": "04992ba3",
   "metadata": {},
   "source": [
    "## CatBoost"
   ]
  },
  {
   "cell_type": "markdown",
   "id": "b95f4917",
   "metadata": {},
   "source": [
    "В дальнейшем в обсуждениях соревнования утверждали, что `CatBoost` сработает лучше (первое место по итогу занял именно он). Я пытался воспользоваться им совместно с `StratifiedKFold` с 5ью фолдами, но к сожалению, расчет длился слишком долго (больше 10ч) и от этой идеи я отказался."
   ]
  },
  {
   "cell_type": "code",
   "execution_count": 37,
   "id": "883ecf54",
   "metadata": {
    "ExecuteTime": {
     "end_time": "2024-07-26T16:56:18.338318Z",
     "start_time": "2024-07-26T16:56:17.625010Z"
    }
   },
   "outputs": [],
   "source": [
    "#X = train_copy.drop(columns=['id', 'Response'], axis=1)\n",
    "#y = train_copy['Response']\n",
    "\n",
    "#X_test = test_copy.drop(columns='id')"
   ]
  },
  {
   "cell_type": "code",
   "execution_count": 38,
   "id": "a89e7705",
   "metadata": {
    "ExecuteTime": {
     "end_time": "2024-07-26T16:56:36.190252Z",
     "start_time": "2024-07-26T16:56:36.187203Z"
    }
   },
   "outputs": [],
   "source": [
    "#FOLDS = 5"
   ]
  },
  {
   "cell_type": "code",
   "execution_count": null,
   "id": "a9049538",
   "metadata": {
    "ExecuteTime": {
     "end_time": "2024-07-26T18:01:52.272076Z",
     "start_time": "2024-07-26T16:57:32.008288Z"
    }
   },
   "outputs": [],
   "source": [
    "#skf = StratifiedKFold(n_splits=FOLDS, shuffle=True, random_state=RANDOM_STATE)\n",
    "\n",
    "#X = X.reset_index(drop=True)\n",
    "#y = y.reset_index(drop=True)\n",
    "\n",
    "#scores = []\n",
    "#best_score = 0\n",
    "\n",
    "#for fold, (train_idx, val_idx) in enumerate(skf.split(X, y)):\n",
    "    #print(f\"# Fold {fold + 1}\")\n",
    "    #X_train_fold = X.loc[train_idx]\n",
    "    #y_train_fold = y.loc[train_idx].values\n",
    "    #X_val_fold = X.loc[val_idx]\n",
    "    #y_val_fold = y.loc[val_idx].values\n",
    "    #X_train_pool = Pool(X_train_fold, y_train_fold, cat_features=X.columns.values)\n",
    "    #X_val_pool = Pool(X_val_fold, y_val_fold, cat_features=X.columns.values)\n",
    "    #X_test_pool = Pool(X_test, cat_features=X_test.columns.values)\n",
    "\n",
    "    # Обучаем CatBoost\n",
    "    #model = cb.CatBoostClassifier(\n",
    "        #loss_function='Logloss',\n",
    "        #eval_metric='AUC',\n",
    "        #class_names=[0, 1],\n",
    "        #learning_rate=0.075,\n",
    "        #iterations=5000,\n",
    "        #depth=9,\n",
    "        #random_strength=0,\n",
    "        #l2_leaf_reg=0.5,\n",
    "        #max_leaves=512,\n",
    "        #fold_permutation_block=64,\n",
    "        #random_seed=42,\n",
    "        #verbose=False)\n",
    "\n",
    "    #model.fit(X=X_train_pool,\n",
    "              #eval_set=X_val_pool,\n",
    "              #verbose=500,\n",
    "              #early_stopping_rounds=200)\n",
    "\n",
    "    #score = model.best_score_['validation']['AUC']\n",
    "    #print('Fold ROC-AUC score: ', score)\n",
    "    #scores.append(score)\n",
    "\n",
    "    #if score > best_score:\n",
    "        #best_score = score\n",
    "\n",
    "    #del X_train_fold, y_train_fold\n",
    "    #del X_val_fold, y_val_fold\n",
    "    #del X_train_pool, X_val_pool, X_test_pool\n",
    "    #del model\n",
    "    #gc.collect()\n",
    "\n",
    "#print('Среднеяя ROC-AUC score: ', sum(scores) / FOLDS)\n",
    "#print('Лучшая метрика ROC-AUC: ', best_score)"
   ]
  },
  {
   "cell_type": "markdown",
   "id": "833614f2",
   "metadata": {},
   "source": [
    "## Проверка моделей на адекватность"
   ]
  },
  {
   "cell_type": "markdown",
   "id": "5743858d",
   "metadata": {},
   "source": [
    "Проверим модели на адекватность, сравнив качество предсказаний с качеством модели, которая предсказывала бы константу.\n",
    "\n",
    "Для этого воспользуемся `DummyClassifier`. Главное, чтобы ее показания были хуже, чем у обученных нами моделей."
   ]
  },
  {
   "cell_type": "code",
   "execution_count": 35,
   "id": "dbc03b77",
   "metadata": {
    "ExecuteTime": {
     "end_time": "2024-07-26T14:23:31.122302Z",
     "start_time": "2024-07-26T14:23:30.421712Z"
    },
    "scrolled": true
   },
   "outputs": [
    {
     "name": "stdout",
     "output_type": "stream",
     "text": [
      "Метрика ROC-AUC на дамми моделе: 0.5\n"
     ]
    }
   ],
   "source": [
    "model_dc = DummyClassifier(strategy='most_frequent')\n",
    "model_dc.fit(X_train, y_train)\n",
    "\n",
    "y_pred_dc = model_dc.predict_proba(X_valid)\n",
    "\n",
    "print(\n",
    "    f'Метрика ROC-AUC на дамми моделе: {roc_auc_score(y_valid, y_pred_dc[:,1])}')"
   ]
  },
  {
   "cell_type": "markdown",
   "id": "0ed10082",
   "metadata": {},
   "source": [
    "Модель прошла проверку на адекватность"
   ]
  },
  {
   "cell_type": "markdown",
   "id": "a287f24c",
   "metadata": {},
   "source": [
    "# Предсказания на тестовой"
   ]
  },
  {
   "cell_type": "markdown",
   "id": "a6b9998b",
   "metadata": {},
   "source": [
    "Сделаем предсказания на тестовой выборке и сделаем таблицу, в которой будет содержаться только название и статус стартапа. Названия компаний находятся в отдельном файле, в начале необходимо его загрузить."
   ]
  },
  {
   "cell_type": "code",
   "execution_count": 26,
   "id": "a8fceb31",
   "metadata": {
    "ExecuteTime": {
     "end_time": "2024-07-27T13:47:29.253859Z",
     "start_time": "2024-07-27T13:47:29.251026Z"
    }
   },
   "outputs": [],
   "source": [
    "pth3 = r\"C:\\Users\\stepa\\Downloads\\sample_submission.csv\""
   ]
  },
  {
   "cell_type": "code",
   "execution_count": 27,
   "id": "3fe0386f",
   "metadata": {
    "ExecuteTime": {
     "end_time": "2024-07-27T13:47:32.358790Z",
     "start_time": "2024-07-27T13:47:31.253291Z"
    }
   },
   "outputs": [],
   "source": [
    "if os.path.exists(pth3):\n",
    "    predict = pd.read_csv(pth3)\n",
    "else:\n",
    "    print('Ошибка')"
   ]
  },
  {
   "cell_type": "code",
   "execution_count": 32,
   "id": "01e2704c",
   "metadata": {
    "ExecuteTime": {
     "end_time": "2024-07-27T14:03:51.979256Z",
     "start_time": "2024-07-27T13:59:21.903325Z"
    }
   },
   "outputs": [],
   "source": [
    "y_test_pred = randomized_search_lgbm.predict_proba(X_test)"
   ]
  },
  {
   "cell_type": "code",
   "execution_count": 33,
   "id": "5111df4d",
   "metadata": {
    "ExecuteTime": {
     "end_time": "2024-07-27T14:04:37.415300Z",
     "start_time": "2024-07-27T14:04:37.402632Z"
    }
   },
   "outputs": [],
   "source": [
    "predict['Response'] = y_test_pred[:,1]"
   ]
  },
  {
   "cell_type": "code",
   "execution_count": 34,
   "id": "3cb344b2",
   "metadata": {
    "ExecuteTime": {
     "end_time": "2024-07-27T14:04:39.099294Z",
     "start_time": "2024-07-27T14:04:39.068229Z"
    }
   },
   "outputs": [],
   "source": [
    "predict['id'] = predict['id'].astype('int32')\n",
    "predict['Response'] = predict['Response'].astype('float32')"
   ]
  },
  {
   "cell_type": "code",
   "execution_count": 35,
   "id": "9c88ceec",
   "metadata": {
    "ExecuteTime": {
     "end_time": "2024-07-27T14:04:54.777273Z",
     "start_time": "2024-07-27T14:04:39.968497Z"
    }
   },
   "outputs": [],
   "source": [
    "# Сохраняем предсказания в файл\n",
    "predict.to_csv('predict_bin.csv', index=False)"
   ]
  },
  {
   "cell_type": "markdown",
   "id": "65da88c8",
   "metadata": {},
   "source": [
    "# Описание  проделанных попыток"
   ]
  },
  {
   "cell_type": "markdown",
   "id": "66a11c35",
   "metadata": {},
   "source": [
    "Краткое описание некоторых проделанных попыток:\n",
    "1. В первой попытке были удалены столбцы `Previously_Insured` (из-за мультиколлинеарности), `Driving_License`, `Annual_Premium`. И обучена регрессия 0.086936\n",
    "2. Далее решил воспользоваться бустингом `LGBM`. Он показал себя лучше 0.87833\n",
    "3. В третей попытке удалили столбец `vintage` результат стал хуже. 0.87830\n",
    "4. Далее решил обратить внимание на столбец `Annual_Premium` и на его выбивающиеся значения. Значения после 100000 очень редкие их всего 2307 и они составляли всего 0.02% от общего числа. Я решил удалить эти значения. Результат стал хуже. 0.87819\n",
    "5. Была попытка, в которой я решил не удалять столбцы, которые не вносят никакого вклада. Результат стал лучше 0.87851. Поэтому решил отказаться от логистической регрессии, так как на ее работу может повлиять мультиколлинеарность, а для бустинга она не так важна.\n",
    "6. В следующих попытках пытался воспользоваться сэмплингом в виде `SMOTENC`, так как по исследовательскому анализу видно, что значения таргета неодинаковое. (Не оправдала надежд)\n",
    "7. Пробовал полиномиальное преобразование признаков. Результат стал хуже\n",
    "8. Добавил множество новых столбцов.\n",
    "9. Отказался от пайплайна, так как необходимость в нем пропала.\n",
    "10. В последних попытках решил воспользоваться `CatBoost` совместно с `StratifiedKFold`. Был слишком долгий расчет. Пришлось оставить эту идею."
   ]
  },
  {
   "cell_type": "markdown",
   "id": "163a8169",
   "metadata": {},
   "source": [
    "# Общий вывод"
   ]
  },
  {
   "cell_type": "markdown",
   "id": "d423bda5",
   "metadata": {},
   "source": [
    "Данные были получены из:\n",
    "\n",
    "- `train.csv`\n",
    "- `test.csv`\n",
    "- `sample_submission.csv`\n",
    "\n",
    "В начале изучили данные. Все исследование проходило в 6 этапов.\n",
    "\n",
    "1. Изучение данные\n",
    "2. Предобработка данных\n",
    "3. Исследовательский анализ данных\n",
    "4. Корреляционные анализ\n",
    "5. Feature Engineering\n",
    "5. Обучение моделей\n",
    "6. Описание проделанных попыток\n",
    "7. Общий вывод\n",
    "\n",
    "Перед нами стояла задача прогноза. Оценить успешность ее выполнения требовалось по метрике `ROC-AUC`.\n",
    "\n",
    "**1. Изученние данных**\n",
    "\n",
    "Тренировочный набор данных сохранили в переменной `train_df`, а тестовый в `test_df`.\n",
    "\n",
    "Всего в `train_df` 12 столбцов, тип данных - `int`(6), `object`(3), `float`(3). \n",
    "\n",
    "Всего в `test_df` 11 столбцов, тип данных - `int`(5), `object`(3), `float`(3). \n",
    "\n",
    "Далее исходя из описательной статистики заметили, что значения медианы и среднего в некоторых столбцах отличается, что, возможно, говорило о выбросах в данных.\n",
    "\n",
    "**2. Предобработка данных**\n",
    "\n",
    "После изучения данных приступили к их обработке. Так как данных очень много, то изменили типы данных для эффективного управления памятью.\n",
    "\n",
    "Сделали проверку на пропуски в данных. В результате пропуски не были найдены.\n",
    "\n",
    "Сделали проверку на явные дубликаты. В результате они не были обнаружены.\n",
    "\n",
    "Сделали проверку на неявные дубликаты в столбцах `Gender`, `Vehicle_Age`, `Vehicle_Damage` и `Region_Code`. В результате они не были обнаружены.\n",
    "\n",
    "**3. Исследовательских анализ данных**\n",
    "\n",
    "В ходе исследовательского анализа необходимо было изучить распределение данных. А также выяснить соотношение целевого признака\n",
    "`Response`\n",
    "\n",
    "- 87.7% - `0` и 12.3% - `1`\n",
    "\n",
    "Узнали соотношение остальных категориальных данных - `Gender`, `Driving_License`, `Previously_Insured`, `Vehicle_Age`, `Vehicle_Damage`. У большинства признаков значения имеют одинаковое соотношение. Выделяется только столбец `Driving_License` - 99.8 у `1`, что и логично, что у клиента должно быть водительское удостоверение, чтобы получить авто страхование.\n",
    "\n",
    "Проверили количественные признаки на выбросы. Было много выделяющихся значений в столбце `Annual_Premium`. В целом такие значения возможны, так как сумму, которую необходимо заплатить клиенту зависит от разных факторов.\n",
    "\n",
    "Проверили наши данные на нормальность при помощи статистического теста Шапиро-Уилка. Все количественные признаки имеют ненормальное распределение.\n",
    "\n",
    "**4. Корреляционный анализ**\n",
    "\n",
    "После анализа признаков можно приступать к исследованию взаимосвязи между ними. Так как мы выяснили, что данные у нас распределены ненормально, то для расчета корреляции воспользовались корреляцией 𝜙𝑘 из библиотеки `phik` для всех наших признаков. Так как значений в датасетах много, воспользовались функцией `sample` для создания репрезентативной выборки.\n",
    "\n",
    "В данных мы заметили, что присутствует мультиколлинеарность между `Vehicle_Damage` и `Previously_Insured`. Но в дальнейшем решил отказаться от Логистической регрессии и использовать только Градиентный бустинг, то избавляться от мультиколлинеарности нет необходимости.\n",
    "\n",
    "*После некоторых попыток стало понятно, что удалять столбцы `Driving_License` и `Annual_Premium` не стоит, хоть они и не вносят никого вклада. (результаты модели стали лучше)*\n",
    "\n",
    "**5. Feature Engineering**\n",
    "\n",
    "В дальнейшем стало понятно, что, чтобы улучшить метрику, необходимо создать новые признаки. Создали столбец `Not_Insured_and_Damaged`, чтобы выделить клиентов без страховки и повреждений. Так как в корреляционном анализе заметили мультиколлинеарность. Обратился к столбцу `Previously_Insured` и на его основе создал новые столбцы. Для этого перевел данный столбец в тип данных `str` и прибавим к нему другие столбцы при этом воспользовался функцией `pd.factorize` для кодировки новых значений.\n",
    "\n",
    "По итогу добавил 5 новых столбцов. И перед тем как перейти к обучению моделей. Сделал стандартизацию для числовых признаков с помощью `StandardScaler()`\n",
    "\n",
    "**6. Обучение моделей**\n",
    "\n",
    "Приступил к обучению модели. Перед нами стояла задача бинарной классификации и нам необходимо предсказать наш целевой признак `Response`.\n",
    "\n",
    "По итогу использовал `LGBMClassifier` совместно с `RandomizdeSearchCV` для подбора гиперпараметров.\n",
    "\n",
    "Оценивал модель по метрике `ROC_AUC`. Также после обучения модели, проверим ее на адекватность при помощи `DummyClassifier`.\n",
    "\n",
    "*В первых попытках использовалась `LogisticRegression` совместно с `OptunaSearchCV` для подбора параметров. Подготовка признаков для обучения проводилась в пайплайне.*\n",
    "\n",
    "В результате получил метрику 0.89 на тренировочной выборке. На тестовой выборке - 0.878.\n",
    "\n",
    "**Вывод**\n",
    "\n",
    "В результате проекта была разработана модель, которая может предсказывать согласиться ли клиент на предложение об авто страховании. Была достигнута хорошее значение метрики благодаря feature engineering и использования LGBM модели.\n",
    "\n",
    "Дальнейший проект можно улучшить используя CatBoost совместно с StratifiedKFold."
   ]
  }
 ],
 "metadata": {
  "hide_input": false,
  "kernelspec": {
   "display_name": "Python 3 (ipykernel)",
   "language": "python",
   "name": "python3"
  },
  "language_info": {
   "codemirror_mode": {
    "name": "ipython",
    "version": 3
   },
   "file_extension": ".py",
   "mimetype": "text/x-python",
   "name": "python",
   "nbconvert_exporter": "python",
   "pygments_lexer": "ipython3",
   "version": "3.11.4"
  },
  "toc": {
   "base_numbering": 1,
   "nav_menu": {},
   "number_sections": true,
   "sideBar": true,
   "skip_h1_title": false,
   "title_cell": "Table of Contents",
   "title_sidebar": "Contents",
   "toc_cell": false,
   "toc_position": {
    "height": "calc(100% - 180px)",
    "left": "10px",
    "top": "150px",
    "width": "384px"
   },
   "toc_section_display": true,
   "toc_window_display": true
  },
  "varInspector": {
   "cols": {
    "lenName": 16,
    "lenType": 16,
    "lenVar": 40
   },
   "kernels_config": {
    "python": {
     "delete_cmd_postfix": "",
     "delete_cmd_prefix": "del ",
     "library": "var_list.py",
     "varRefreshCmd": "print(var_dic_list())"
    },
    "r": {
     "delete_cmd_postfix": ") ",
     "delete_cmd_prefix": "rm(",
     "library": "var_list.r",
     "varRefreshCmd": "cat(var_dic_list()) "
    }
   },
   "types_to_exclude": [
    "module",
    "function",
    "builtin_function_or_method",
    "instance",
    "_Feature"
   ],
   "window_display": false
  }
 },
 "nbformat": 4,
 "nbformat_minor": 5
}
